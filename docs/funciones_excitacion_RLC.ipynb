{
 "cells": [
  {
   "cell_type": "markdown",
   "metadata": {},
   "source": [
    "# Síntesis de algunas funciones RLC\n",
    "\n",
    "<img src=\"./logo_UTN.svg\" align=\"right\" width=\"150\" /> \n",
    "\n",
    "#### Por Mariano Llamedo Soria"
   ]
  },
  {
   "cell_type": "markdown",
   "metadata": {},
   "source": [
    "## Resumen \n",
    "En el siguiente documento se presentan lineamientos para realizar algunas síntesis RLC. Si bien existen métodos sistemáticos para tal fin, en el contexto de la materia Teoría de Circuitos 2, nos interesarán ciertas redes con topologías bien definidas. Para ello enfatizamos la importancia de conocer dicha topología circuital (red no disipativa con doble o simplemente cargada, sin carga, etc.), y utilizarla durante el procedimiento de síntesis como guía para realizar las remociones.\n",
    "\n",
    "* Funciones de dibujo de redes: [dibujar_puerto_entrada](), [dibujar_funcion_exc_abajo](), [dibujar_elemento_derivacion](), [dibujar_espacio_derivacion](), [dibujar_elemento_serie]()\n",
    "* Funciones de síntesis de dipolos: [remover_polo_infinito](), [remover_valor_en_infinito]()\n",
    "* Funciones para presentación de markdown y latex: [print_latex](), [print_subtitle](), [a_equal_b_latex_s]()\n"
   ]
  },
  {
   "cell_type": "markdown",
   "metadata": {},
   "source": [
    "## Introducción\n",
    "\n",
    "Concluye la sección de síntesis de funciones de excitación dejando algunas pautas para resolver la síntesis de redes R-L-C. Como se explicó en los documentos anteriores para las redes compuestas por dos elementos diferentes, habrá que prestar especial atención en todos los pasos de la síntesis de que la inmitancia remanente no pierda su **condición de ser realizable**, es decir que sea FRP. \n",
    "\n",
    "Se presentan a continuación algunos ejemplos orientados a resolver ciertos problemas especialmente útiles al momento de sintetizar **transferencias cargadas**. Se remite al lector interesado en métodos sistemáticos a la [bibliografía](https://en.wikipedia.org/wiki/Network_synthesis) (Brune, Bott-Duffin, Miyata, etc.)\n",
    "\n",
    "Se inicializa el entorno de trabajo para comenzar con el primer ejemplo"
   ]
  },
  {
   "cell_type": "code",
   "execution_count": 10,
   "metadata": {
    "scrolled": true
   },
   "outputs": [],
   "source": [
    "\n",
    "import sympy as sp\n",
    "\n",
    "# Ahora importamos las funciones de PyTC2\n",
    "\n",
    "from pytc2.remociones import remover_polo_dc, remover_polo_infinito, isFRP\n",
    "from pytc2.remociones import remover_valor_en_dc, remover_valor_en_infinito, remover_polo_sigma\n",
    "\n",
    "from pytc2.sintesis_dipolo import cauer_RC, foster, foster_zRC2yRC\n",
    "from pytc2.dibujar import dibujar_cauer_RC_RL, dibujar_foster_derivacion, dibujar_foster_serie\n",
    "from pytc2.general import print_latex, print_subtitle, a_equal_b_latex_s\n",
    "from IPython.display import display,  Markdown\n"
   ]
  },
  {
   "cell_type": "markdown",
   "metadata": {},
   "source": [
    "## Ejemplo 1:\n",
    "\n",
    "Sea la siguiente función de impedancia:\n",
    "\n",
    "$$ Z(s) = \\frac{(s^2+2s+2)}{(s^2+s+1)} $$ \n",
    "\n",
    "Se comienza por la inicialización de variables y la función dada"
   ]
  },
  {
   "cell_type": "code",
   "execution_count": 11,
   "metadata": {},
   "outputs": [
    {
     "data": {
      "text/markdown": [
       "#### Impedancia $Z_{RLC}$ "
      ],
      "text/plain": [
       "<IPython.core.display.Markdown object>"
      ]
     },
     "metadata": {},
     "output_type": "display_data"
    },
    {
     "data": {
      "text/latex": [
       "$\\displaystyle Z_{RLC}(s)=\\frac{s^{2} + 2 s + 2}{s^{2} + s + 1}$"
      ],
      "text/plain": [
       "<IPython.core.display.Math object>"
      ]
     },
     "metadata": {},
     "output_type": "display_data"
    }
   ],
   "source": [
    "# Resolución simbólica\n",
    "s = sp.symbols('s ', complex=True)\n",
    "\n",
    "# Sea la siguiente función de excitación\n",
    "ZZ = (s**2 + 2*s + 2)/(s**2 + 1*s + 1)\n",
    "\n",
    "print_subtitle('Impedancia $Z_{RLC}$ ')\n",
    "\n",
    "print_latex(a_equal_b_latex_s('Z_{RLC}(s)', ZZ))\n"
   ]
  },
  {
   "cell_type": "code",
   "execution_count": 12,
   "metadata": {},
   "outputs": [
    {
     "data": {
      "text/markdown": [
       "#### Expansión Foster de $Z_{RLC}$ "
      ],
      "text/plain": [
       "<IPython.core.display.Markdown object>"
      ]
     },
     "metadata": {},
     "output_type": "display_data"
    },
    {
     "data": {
      "text/latex": [
       "$\\displaystyle Z_{RLC}(s)=\\frac{s^{2} + 2 s + 2}{s^{2} + s + 1}=\\frac{s + 1}{s^{2} + s + 1} + 1$"
      ],
      "text/plain": [
       "<IPython.core.display.Math object>"
      ]
     },
     "metadata": {},
     "output_type": "display_data"
    },
    {
     "ename": "TypeError",
     "evalue": "a debe ser un símbolo o una cadena y b debe ser un símbolo.",
     "output_type": "error",
     "traceback": [
      "\u001b[0;31m---------------------------------------------------------------------------\u001b[0m",
      "\u001b[0;31mTypeError\u001b[0m                                 Traceback (most recent call last)",
      "Cell \u001b[0;32mIn[12], line 8\u001b[0m\n\u001b[1;32m      4\u001b[0m print_subtitle(\u001b[38;5;124m'\u001b[39m\u001b[38;5;124mExpansión Foster de $Z_\u001b[39m\u001b[38;5;132;01m{RLC}\u001b[39;00m\u001b[38;5;124m$ \u001b[39m\u001b[38;5;124m'\u001b[39m)\n\u001b[1;32m      6\u001b[0m print_latex(a_equal_b_latex_s(a_equal_b_latex_s(\u001b[38;5;124m'\u001b[39m\u001b[38;5;124mZ_\u001b[39m\u001b[38;5;132;01m{RLC}\u001b[39;00m\u001b[38;5;124m(s)\u001b[39m\u001b[38;5;124m'\u001b[39m, ZZ)[\u001b[38;5;241m1\u001b[39m:\u001b[38;5;241m-\u001b[39m\u001b[38;5;241m1\u001b[39m], ZRLC_foster ))\n\u001b[0;32m----> 8\u001b[0m print_latex(\u001b[43ma_equal_b_latex_s\u001b[49m\u001b[43m(\u001b[49m\u001b[38;5;124;43m'\u001b[39;49m\u001b[38;5;124;43mk_0\u001b[39;49m\u001b[38;5;124;43m'\u001b[39;49m\u001b[43m,\u001b[49m\u001b[43m \u001b[49m\u001b[43mk0\u001b[49m\u001b[43m)\u001b[49m)\n\u001b[1;32m     10\u001b[0m print_latex(a_equal_b_latex_s(\u001b[38;5;124mr\u001b[39m\u001b[38;5;124m'\u001b[39m\u001b[38;5;124mk_1\u001b[39m\u001b[38;5;124m'\u001b[39m, ki_wi ))\n\u001b[1;32m     12\u001b[0m print_latex(a_equal_b_latex_s(\u001b[38;5;124m'\u001b[39m\u001b[38;5;124mk_k\u001b[39m\u001b[38;5;124m'\u001b[39m, kk))\n",
      "File \u001b[0;32m~/mariano/Docencia/TC2/scripts/pytc2/src/pytc2/general.py:273\u001b[0m, in \u001b[0;36ma_equal_b_latex_s\u001b[0;34m(a, b)\u001b[0m\n\u001b[1;32m    223\u001b[0m \u001b[38;5;250m\u001b[39m\u001b[38;5;124;03m'''\u001b[39;00m\n\u001b[1;32m    224\u001b[0m \u001b[38;5;124;03mA partir de un string o expresión de SymPy (a), y otra expresión de SymPy (b):\u001b[39;00m\n\u001b[1;32m    225\u001b[0m \u001b[38;5;124;03m\u001b[39;00m\n\u001b[0;32m   (...)\u001b[0m\n\u001b[1;32m    269\u001b[0m \n\u001b[1;32m    270\u001b[0m \u001b[38;5;124;03m'''\u001b[39;00m\n\u001b[1;32m    272\u001b[0m \u001b[38;5;28;01mif\u001b[39;00m \u001b[38;5;129;01mnot\u001b[39;00m (\u001b[38;5;28misinstance\u001b[39m(a, (sp\u001b[38;5;241m.\u001b[39mExpr, \u001b[38;5;28mstr\u001b[39m)) \u001b[38;5;129;01mand\u001b[39;00m \u001b[38;5;28misinstance\u001b[39m(b, (\u001b[38;5;28mlist\u001b[39m, sp\u001b[38;5;241m.\u001b[39mExpr))):\n\u001b[0;32m--> 273\u001b[0m     \u001b[38;5;28;01mraise\u001b[39;00m \u001b[38;5;167;01mTypeError\u001b[39;00m(\u001b[38;5;124m\"\u001b[39m\u001b[38;5;124ma debe ser un símbolo o una cadena y b debe ser un símbolo.\u001b[39m\u001b[38;5;124m\"\u001b[39m)\n\u001b[1;32m    275\u001b[0m a_str \u001b[38;5;241m=\u001b[39m sp\u001b[38;5;241m.\u001b[39mlatex(a) \u001b[38;5;28;01mif\u001b[39;00m \u001b[38;5;28misinstance\u001b[39m(a, sp\u001b[38;5;241m.\u001b[39mBasic) \u001b[38;5;28;01melse\u001b[39;00m a\n\u001b[1;32m    277\u001b[0m \u001b[38;5;28;01mreturn\u001b[39;00m \u001b[38;5;124m'\u001b[39m\u001b[38;5;124m$\u001b[39m\u001b[38;5;124m'\u001b[39m \u001b[38;5;241m+\u001b[39m a_str \u001b[38;5;241m+\u001b[39m \u001b[38;5;124m'\u001b[39m\u001b[38;5;124m=\u001b[39m\u001b[38;5;124m'\u001b[39m \u001b[38;5;241m+\u001b[39m sp\u001b[38;5;241m.\u001b[39mlatex(b) \u001b[38;5;241m+\u001b[39m \u001b[38;5;124m'\u001b[39m\u001b[38;5;124m$\u001b[39m\u001b[38;5;124m'\u001b[39m\n",
      "\u001b[0;31mTypeError\u001b[0m: a debe ser un símbolo o una cadena y b debe ser un símbolo."
     ]
    }
   ],
   "source": [
    "# Se expande ZRC a la Foster\n",
    "k0, koo, ki_wi, kk, ZRLC_foster = foster(ZZ)\n",
    "\n",
    "print_subtitle('Expansión Foster de $Z_{RLC}$ ')\n",
    "\n",
    "print_latex(a_equal_b_latex_s(a_equal_b_latex_s('Z_{RLC}(s)', ZZ)[1:-1], ZRLC_foster ))\n",
    "\n",
    "print_latex(a_equal_b_latex_s('k_0', k0))\n",
    "\n",
    "print_latex(a_equal_b_latex_s(r'k_1', ki_wi ))\n",
    "\n",
    "print_latex(a_equal_b_latex_s('k_k', kk))\n",
    "\n"
   ]
  },
  {
   "cell_type": "code",
   "execution_count": null,
   "metadata": {
    "scrolled": true
   },
   "outputs": [],
   "source": [
    "# Se expande ZRC a la Foster\n",
    "k0, koo, ki_wi, kk, YRLC_foster = foster(1/ZZ)\n",
    "\n",
    "print_subtitle('Expansión Foster de $Y_{RLC}$ ')\n",
    "\n",
    "print_latex(a_equal_b_latex_s(a_equal_b_latex_s('Y_{RLC}(s)', 1/ZZ)[1:-1], YRLC_foster ))\n",
    "\n",
    "print_latex(a_equal_b_latex_s('k_0', k0))\n",
    "\n",
    "print_latex(a_equal_b_latex_s(r'k_1', ki_wi ))\n",
    "\n",
    "print_latex(a_equal_b_latex_s('k_k', kk))\n"
   ]
  },
  {
   "cell_type": "markdown",
   "metadata": {},
   "source": [
    "como se puede apreciar, ninguna de las formas Foster pareciera llegar a buen puerto para la síntesis, probaremos con Cauer finalmente"
   ]
  },
  {
   "cell_type": "code",
   "execution_count": null,
   "metadata": {},
   "outputs": [],
   "source": [
    "from pytc2.sintesis_dipolo import cauer_RC\n",
    "from pytc2.dibujar import display, dibujar_cierre, dibujar_puerto_entrada, dibujar_funcion_exc_abajo,  dibujar_elemento_serie, dibujar_elemento_derivacion,  dibujar_tanque_derivacion, dibujar_tanque_RC_serie,  dibujar_espacio_derivacion, Capacitor, Resistor, Inductor\n",
    "\n",
    "# Implementaremos FF mediante Cauer 1 o remociones continuas en infinito\n",
    "koo, ZZ_cauer_oo, rem = cauer_RC(ZZ, remover_en_inf=True)\n",
    "\n",
    "print_subtitle('Implementación escalera de $Z_{RLC}$ e $Y_{RLC}$')\n",
    "\n",
    "print_latex(a_equal_b_latex_s(a_equal_b_latex_s('$ Z_{RLC}(s)', ZZ)[1:-1], ZZ_cauer_oo ))\n",
    "\n",
    "# Tratamos a nuestra función inmitancia como una Z\n",
    "dibujar_cauer_RC_RL(koo, z_exc = ZZ_cauer_oo)\n",
    "\n",
    "print_latex(a_equal_b_latex_s(a_equal_b_latex_s('$ Y_{RLC}(s)', ZZ)[1:-1], ZZ_cauer_oo ))\n",
    "\n",
    "# Tratamos a nuestra función inmitancia como una Y\n",
    "dibujar_cauer_RC_RL(koo, y_exc = ZZ_cauer_oo)\n",
    "\n"
   ]
  },
  {
   "cell_type": "markdown",
   "metadata": {},
   "source": [
    "Las formas canónicas no han servido de mucho como era de esperarse. Se procede ahora con una metodología NO canónica, basada simplemente en realizar remociones cuidando que la función resultante no **se rompa**, es decir, deje de ser FRP. Se comienza con la función original:"
   ]
  },
  {
   "cell_type": "code",
   "execution_count": null,
   "metadata": {},
   "outputs": [],
   "source": [
    "isFRP(ZZ)"
   ]
  },
  {
   "cell_type": "markdown",
   "metadata": {},
   "source": [
    "Obviamente la función original es FRP. Luego se comienza por analizar el comportamiento de la función en ambos extremos y evaluar la red que resulta luego de la remoción. Tanto en 0 como infinito la red se comporta resistivamente. Ahora conviene evaluar el valor de cada tendencia en los extremos, y saber que solo puede removerse **el menor valor**. Para este caso el límite lo impone el valor en infinito:"
   ]
  },
  {
   "cell_type": "code",
   "execution_count": null,
   "metadata": {},
   "outputs": [],
   "source": [
    "Z2, R1 = remover_valor_en_infinito(ZZ)"
   ]
  },
  {
   "cell_type": "markdown",
   "metadata": {},
   "source": [
    "Si fuese correcto el camino elegido, Z2 debería seguir siendo FRP:"
   ]
  },
  {
   "cell_type": "code",
   "execution_count": null,
   "metadata": {},
   "outputs": [],
   "source": [
    "str_si_o_no = ['No', 'Si']\n",
    "\n",
    "print( 'La función Z2 es FRP? {:s}'.format(str_si_o_no[isFRP(Z2)]) )\n",
    "\n",
    "print_latex(a_equal_b_latex_s('Z_2(s)', Z2))\n"
   ]
  },
  {
   "cell_type": "markdown",
   "metadata": {},
   "source": [
    "Procedemos a analizar la siguiente remoción sobre Z2. En este caso encontramos un comportamiento capacitivo en infinito (cero de impedancia), y el resistivo en DC. Evidentemente, ya no podemos retirar nada salvo el capacitor que se evidencia en infinito. Para ello, invertimos y removemos:"
   ]
  },
  {
   "cell_type": "code",
   "execution_count": null,
   "metadata": {},
   "outputs": [],
   "source": [
    "Y4, Y3 = remover_polo_infinito(1/Z2)\n",
    "\n",
    "C1 = Y3/s"
   ]
  },
  {
   "cell_type": "markdown",
   "metadata": {},
   "source": [
    "Ya obtenido C1, repetimos el paso anterior: analizamos Y4 y procedemos a dar el siguiente paso:"
   ]
  },
  {
   "cell_type": "code",
   "execution_count": null,
   "metadata": {},
   "outputs": [],
   "source": [
    "print( 'La función Y4 es FRP? {:s}'.format(str_si_o_no[isFRP(Y4)]) )\n",
    "\n",
    "print_latex(a_equal_b_latex_s('Y_4(s)', Y4))\n"
   ]
  },
  {
   "cell_type": "markdown",
   "metadata": {},
   "source": [
    "Ahora está mucho más claro, e identificamos que en Z4 solo restan un inductor y un resistor"
   ]
  },
  {
   "cell_type": "code",
   "execution_count": null,
   "metadata": {},
   "outputs": [],
   "source": [
    "Z6, Z5 = remover_polo_infinito(1/Y4)\n",
    "\n",
    "L1 = Z5/s\n",
    "\n",
    "R2 = Z6"
   ]
  },
  {
   "cell_type": "markdown",
   "metadata": {},
   "source": [
    "Con esto finalizamos la síntesis y procedemos a visualizar la red resultante"
   ]
  },
  {
   "cell_type": "code",
   "execution_count": null,
   "metadata": {
    "scrolled": true
   },
   "outputs": [],
   "source": [
    "d = dibujar_puerto_entrada('',\n",
    "                        voltage_lbl = ('+', '$V1$', '-'), \n",
    "                        current_lbl = '$I1$')\n",
    "\n",
    "d, zz_lbl = dibujar_funcion_exc_abajo(d, \n",
    "                                          'Z',  \n",
    "                                          ZZ, \n",
    "                                          hacia_salida = True,\n",
    "                                          k_gap_width = 0.5)\n",
    "\n",
    "d = dibujar_elemento_serie(d, Resistor, R1)\n",
    "\n",
    "d = dibujar_elemento_derivacion(d, Capacitor, C1)\n",
    "\n",
    "d = dibujar_elemento_serie(d, Inductor, L1)\n",
    "\n",
    "d = dibujar_elemento_serie(d, Resistor, R2)\n",
    "\n",
    "d = dibujar_cierre(d)\n",
    "\n",
    "display(d)"
   ]
  },
  {
   "cell_type": "markdown",
   "metadata": {},
   "source": [
    "Cabe la pregunta ahora, ¿podría haberse tomado otro camino durante la síntesis?\n",
    "\n",
    "Por ejemplo, ¿podríamos retirar un inductor unitario primero?"
   ]
  },
  {
   "cell_type": "code",
   "execution_count": null,
   "metadata": {},
   "outputs": [],
   "source": [
    "Z2x = ZZ - s\n",
    "\n",
    "print( 'La función Z2x es FRP? {:s}'.format(str_si_o_no[isFRP(Z2x)]) )\n"
   ]
  },
  {
   "cell_type": "markdown",
   "metadata": {},
   "source": [
    "Evidentemente **no** ¿y un capacitor?"
   ]
  },
  {
   "cell_type": "code",
   "execution_count": null,
   "metadata": {},
   "outputs": [],
   "source": [
    "Z2x = ZZ - 1/s\n",
    "\n",
    "print( 'La función Z2x es FRP? {:s}'.format(str_si_o_no[isFRP(Z2x)]) )\n"
   ]
  },
  {
   "cell_type": "markdown",
   "metadata": {},
   "source": [
    "**Tampoco es posible**. Esto debería servir para enfatizar la importancia del orden en las remociones. En muchas síntesis RLC, se tiene cierta información previa sobre **la topología circuital**, o alguna característica de la red: una resonancia de algún tanque, un valor de resistencia a cierta frecuencia, etc. Sin dejar de mencionar las síntesis **doblemente cargadas**, posiblemente las síntesis RLC más relevantes para esta materia. En ellas se sabe que tanto en el puerto de entrada como de salida están los componentes resistivos o disipativos, mientras que entre ambos solo podrá haber capacitores e inductores, dada la naturaleza no disipativa de la red. Es decir que en estos casos la topología hace las veces de *mapa de remociones* (al igual que el método gráfico)."
   ]
  },
  {
   "attachments": {
    "43e1e35f-ac18-455d-83a0-e2339425d82b.png": {
     "image/png": "[encoded data removed]"
    }
   },
   "cell_type": "markdown",
   "metadata": {},
   "source": [
    "## Ejemplo 2:\n",
    "\n",
    "Sea la siguiente función de impedancia:\n",
    "\n",
    "$$ Z(s) = \\frac{(s^2+s+1)}{(s^2+2s+5)(s+1)} $$ \n",
    "\n",
    "Encontrar los valores de los componentes de la siguiente red\n",
    "\n",
    "![imagen.png](attachment:43e1e35f-ac18-455d-83a0-e2339425d82b.png)\n",
    "\n",
    "#### Una posible solución\n",
    "\n",
    "Inicializamos la función requerida"
   ]
  },
  {
   "cell_type": "code",
   "execution_count": null,
   "metadata": {},
   "outputs": [],
   "source": [
    "# Sea la siguiente función de excitación\n",
    "ZZ = (s**2 + 1*s + 1) / (s**2 + 2*s + 5) / (s + 1)\n",
    "\n",
    "print_subtitle('Impedancia $Z_{RLC}$ ')\n",
    "\n",
    "print_latex(a_equal_b_latex_s('Z_{RLC}(s)', ZZ))\n",
    "\n",
    "print_latex(a_equal_b_latex_s('Y_{RLC}(s)', 1/ZZ))\n"
   ]
  },
  {
   "cell_type": "markdown",
   "metadata": {},
   "source": [
    "como se explicó en el anterior ejemplo, la topología circuital será la guía de las remociones. Como los primeros elementos están en derivación, así debemos proceder: removiendo un **polo en infinito** y un **valor constante**"
   ]
  },
  {
   "cell_type": "code",
   "execution_count": null,
   "metadata": {},
   "outputs": [],
   "source": [
    "# remoción total en infinito de 1/ZZ\n",
    "\n",
    "Y2, Yc1 = remover_polo_infinito(1/ZZ)\n",
    "\n",
    "# Yc1 es la admitancia removida\n",
    "# extraigo C1\n",
    "C1 = Yc1/s"
   ]
  },
  {
   "cell_type": "markdown",
   "metadata": {},
   "source": [
    "Al proceder a remover un valor constante, debe prestarse especial cuidado a **NO remover de más**. Es decir, solo se podrá remover el mínimo valor real de la función en ambos extremos:"
   ]
  },
  {
   "cell_type": "code",
   "execution_count": null,
   "metadata": {},
   "outputs": [],
   "source": [
    "Ginf = sp.limit(Y2, s, sp.oo)\n",
    "G0 = sp.limit(Y2, s, 0)\n",
    "\n",
    "import numpy as np\n",
    "\n",
    "# remuevo la menor admitancia\n",
    "R1 = 1/np.min((Ginf, G0))\n",
    "Y4 = sp.factor(sp.simplify(sp.expand(Y2 - 1/R1)))\n",
    "\n",
    "print( 'La función Y4 es FRP? {:s}'.format(str_si_o_no[isFRP(Y4)]) )\n"
   ]
  },
  {
   "cell_type": "markdown",
   "metadata": {},
   "source": [
    "Evidentemente lo hemos hecho bien. Procedemos ahora a continuar con la topología de la misma manera"
   ]
  },
  {
   "cell_type": "code",
   "execution_count": null,
   "metadata": {},
   "outputs": [],
   "source": [
    "Z6, Zl1 = remover_polo_infinito(1/Y4)\n",
    "\n",
    "# Zl1  es la impedancia removida\n",
    "# extraigo L1\n",
    "L1 = Zl1/s\n",
    "\n",
    "# remuevo la menor resistencia\n",
    "Rinf = sp.limit(Z6, s, sp.oo)\n",
    "R0 = sp.limit(Z6, s, 0)\n",
    "R2 = np.min((Rinf, R0))\n",
    "Z8 = sp.factor(sp.simplify(sp.expand(Z6 - R2)))\n",
    "\n",
    "print( 'La función Z8 es FRP? {:s}'.format(str_si_o_no[isFRP(Z8)]) )"
   ]
  },
  {
   "cell_type": "markdown",
   "metadata": {},
   "source": [
    "Ahora si, procedemos a los elementos finales"
   ]
  },
  {
   "cell_type": "code",
   "execution_count": null,
   "metadata": {},
   "outputs": [],
   "source": [
    "# extraigo C2\n",
    "C2 = sp.limit(1/s/Z8, s, sp.oo)\n",
    "\n",
    "Y10, Yc2 = remover_polo_infinito(1/Z8)\n",
    "# Yc1 es la admitancia removida\n",
    "# extraigo C1\n",
    "C2 = Yc2/s\n",
    "\n",
    "R3 = 1/Y10"
   ]
  },
  {
   "cell_type": "markdown",
   "metadata": {},
   "source": [
    "Finalmente, dibujamos la red resultante con los valores obtenidos"
   ]
  },
  {
   "cell_type": "code",
   "execution_count": null,
   "metadata": {},
   "outputs": [],
   "source": [
    "# Dibujamos la red resultante:\n",
    "\n",
    "d = dibujar_puerto_entrada('',\n",
    "                        voltage_lbl = ('+', '$V$', '-'), \n",
    "                        current_lbl = '$I$')\n",
    "\n",
    "d, zz_lbl = dibujar_funcion_exc_abajo(d, \n",
    "                                          'Z',  \n",
    "                                          ZZ, \n",
    "                                          hacia_salida = True,\n",
    "                                          k_gap_width = 0.5)\n",
    "\n",
    "d = dibujar_elemento_derivacion(d, Capacitor, C1)\n",
    "\n",
    "d = dibujar_espacio_derivacion(d)\n",
    "\n",
    "d = dibujar_elemento_derivacion(d, Resistor, R1)\n",
    "    \n",
    "d = dibujar_elemento_serie(d, Inductor, L1)\n",
    "\n",
    "d = dibujar_elemento_serie(d, Resistor, R2)\n",
    "\n",
    "d = dibujar_elemento_derivacion(d, Capacitor, C2)\n",
    "\n",
    "d = dibujar_espacio_derivacion(d)\n",
    "\n",
    "d = dibujar_elemento_derivacion(d, Resistor, R3)\n",
    "\n",
    "display(d)"
   ]
  },
  {
   "cell_type": "markdown",
   "metadata": {},
   "source": [
    "Con este ejemplo se finaliza el documento."
   ]
  }
 ],
 "metadata": {
  "kernelspec": {
   "display_name": "Python 3 (ipykernel)",
   "language": "python",
   "name": "python3"
  },
  "language_info": {
   "codemirror_mode": {
    "name": "ipython",
    "version": 3
   },
   "file_extension": ".py",
   "mimetype": "text/x-python",
   "name": "python",
   "nbconvert_exporter": "python",
   "pygments_lexer": "ipython3",
   "version": "3.10.12"
  },
  "varInspector": {
   "cols": {
    "lenName": 16,
    "lenType": 16,
    "lenVar": 40
   },
   "kernels_config": {
    "python": {
     "delete_cmd_postfix": "",
     "delete_cmd_prefix": "del ",
     "library": "var_list.py",
     "varRefreshCmd": "print(var_dic_list())"
    },
    "r": {
     "delete_cmd_postfix": ") ",
     "delete_cmd_prefix": "rm(",
     "library": "var_list.r",
     "varRefreshCmd": "cat(var_dic_list()) "
    }
   },
   "types_to_exclude": [
    "module",
    "function",
    "builtin_function_or_method",
    "instance",
    "_Feature"
   ],
   "window_display": false
  }
 },
 "nbformat": 4,
 "nbformat_minor": 4
}
