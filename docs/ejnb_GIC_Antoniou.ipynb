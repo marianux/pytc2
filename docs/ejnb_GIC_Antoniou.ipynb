{
 "cells": [
  {
   "cell_type": "markdown",
   "metadata": {},
   "source": [
    "# Implementación de un pasabanda mediante el conversor generalizado de impedancias\n",
    "\n",
    "<img src=\"./logo_UTN.svg\" align=\"right\" width=\"150\" /> \n",
    "\n",
    "#### Por Mariano Llamedo Soria"
   ]
  },
  {
   "cell_type": "markdown",
   "metadata": {},
   "source": [
    "### Resumen \n",
    "\n",
    "En este notebook se analizará la respuesta en frecuencia de un **filtro pasabanda activo** implementado mediante el conversor generalizado de impedancias de [Andreas Antoniou](https://ieeexplore.ieee.org/author/37276841000) en 1969 [1]. Se aprovecha el ejemplo para demostrar el uso de las siguientes funciones de PyTC2:\n",
    "\n",
    "* [bodePlot](https://pytc2.readthedocs.io/en/latest/autoapi/pytc2/sistemas_lineales/index.html#pytc2.sistemas_lineales.bodePlot)\n",
    "* [print_latex](https://pytc2.readthedocs.io/en/latest/autoapi/pytc2/general/index.html#pytc2.general.print_latex)\n",
    "* [a_equal_b_latex_s](https://pytc2.readthedocs.io/en/latest/autoapi/pytc2/general/index.html#pytc2.general.a_equal_b_latex_s)\n",
    "* [symbfunc2tf]()\n",
    "* [factorSOS]()\n",
    "\n",
    "[1] A. Anotniou. [*Realisation of gyrators using operational amplifiers, and their use in RC-active-network synthesis*](https://drive.google.com/file/d/1joumLPy2mgb4ejy2ld_ywwJKN_i40eeL/view?usp=drive_link). PROC. IEE, Vol. 116, No. II, NOVEMBER 1969.\n"
   ]
  },
  {
   "cell_type": "markdown",
   "metadata": {},
   "source": [
    "### Introducción\n",
    "\n",
    "En este documento se analizará el conversor generalizado de inmitancias (impedancias o admitancias) propuesto por Antoniou  (GIC de aquí en adelante). Este circuito es especialmente útil para implementar funciones de excitación en su puerto de entrada que dependen de las 5 admitancias que componen la red. Algunos ejemplos que se estudiarán son giradores, resistores negativos dependientes de la frecuencia (FDNR), entre otras posibilidades que se pueden implementar con esta red. El circuito que representa al GIC de Antoniou es muy llamativo:\n",
    "\n",
    "<img src=\"./GIC_Antoniou.png\" width=\"700\" style=\"border:10px solid white\" /> \n",
    "\n",
    "Se procede ahora al análisis de la red para hallar concretamente la admitancia en el puerto 1, $Y_1 = \\frac{I_1}{V_1}$\n"
   ]
  },
  {
   "cell_type": "markdown",
   "metadata": {},
   "source": [
    "Planteamos las ecuaciones de nodos, quedando en forma matricial de la siguiente forma\n",
    "\n",
    "$$ v.Y-i = 0$$\n",
    "\n",
    "que se procederá a resolver con el solver de ecuaciones lineales de SymPy"
   ]
  },
  {
   "cell_type": "code",
   "execution_count": null,
   "metadata": {
    "code_folding": [],
    "scrolled": true
   },
   "outputs": [],
   "source": [
    "import sympy as sp\n",
    "from pytc2.remociones import remover_polo_dc\n",
    "from pytc2.general import a_equal_b_latex_s, print_latex, s, symbfunc2tf, factorSOS\n",
    "from pytc2.sistemas_lineales import bodePlot\n",
    "\n",
    "# tensiones y corrientes que usaremos para nuestros análisis\n",
    "I1, V1, V2, V3, V4, V5 = sp.symbols(\"I1, V1, V2, V3, V4, V5\")\n",
    "Y1, Y2, Y3, Y4, Y5, As = sp.symbols(\"Y1, Y2, Y3, Y4, Y5, As\")\n",
    "G, C, wt, w0 = sp.symbols(\"G, C, wt, w0\", real = True, posistive = True) \n",
    "\n"
   ]
  },
  {
   "cell_type": "markdown",
   "metadata": {},
   "source": [
    "Se aprovecharán las capacidades simbólicas para mostrar lo sencillo que puede ser analizar un circuito como el GIC, con diferentes complejidades algebraicas. Para ello planteamos tres análisis en orden de complejidad creciente:\n",
    "\n",
    "1. Amplificadores operacionales (OpAmp) ideales, realimentados negativamente\n",
    "2. OpAmp's ideales, sin considerar realimentación negativa.\n",
    "3. OpAmp's basados en el modelo de un solo polo en el origen o integrador.\n",
    "\n",
    "### OpAmp's ideales, realimentados negativamente\n",
    "\n",
    "El caso más sencillo se modela con la siguiente ecuación matricial, que arroja el resultado más conocido del GIC.\n",
    "  "
   ]
  },
  {
   "cell_type": "code",
   "execution_count": null,
   "metadata": {},
   "outputs": [],
   "source": [
    "# modelo ideal negativamente realimentado\n",
    "aa = sp.solve([ \n",
    "                V1*Y1 - V2*Y1 - I1, \n",
    "                -V2*Y2 + V1*(Y2+Y3) -V3*Y3,\n",
    "                -V3*Y4 + V1*(Y4+Y5)\n",
    "                ], \n",
    "                [V1, V2, V3])\n",
    "Z1 = aa[V1]/I1\n",
    "\n",
    "print_latex(a_equal_b_latex_s('Z_1 = \\\\frac{V_1}{I_1}', Z1))\n"
   ]
  },
  {
   "cell_type": "markdown",
   "metadata": {},
   "source": [
    "### Sin asumir realimentación negativa\n",
    "\n",
    "Un paso de complejidad siguiente podría ser considerar que los OpAmp's no están realimentados negativamente, y en consecuencia la tensión en su pata inversora y no inversora no son iguales. Luego se debería imponer que la ganancia de cada OpAmp tiende a infinito, y analizar la impedancia $Z_1$. Para ello se plantea:\n"
   ]
  },
  {
   "cell_type": "code",
   "execution_count": null,
   "metadata": {},
   "outputs": [],
   "source": [
    "aa = sp.solve([ \n",
    "                V1*Y1 - V2*Y1 - I1, \n",
    "                -V2*Y2 + V3*(Y2+Y3) -V4*Y3,\n",
    "                -V4*Y4 + V5*(Y4+Y5),\n",
    "                As*(V5-V3) - V2, \n",
    "                As*(V1-V3) - V4, \n",
    "                ], \n",
    "                [V1, V2, V3, V4, V5])\n",
    "\n",
    "Z12 = aa[V1]/I1\n",
    "\n",
    "print_latex(a_equal_b_latex_s('Z_{12}', Z12))\n"
   ]
  },
  {
   "cell_type": "markdown",
   "metadata": {},
   "source": [
    "Como se observa la expresión se complica enormemente, a menos que consideremos $A_s \\to \\infty$"
   ]
  },
  {
   "cell_type": "code",
   "execution_count": null,
   "metadata": {
    "code_folding": []
   },
   "outputs": [],
   "source": [
    "# modelo ideal sin asumir realimentación negativa\n",
    "Z122 = sp.limit(Z12, As, sp.oo)\n",
    "\n",
    "print_latex(a_equal_b_latex_s('Z_{12} = Z_1', Z122))\n"
   ]
  },
  {
   "cell_type": "markdown",
   "metadata": {},
   "source": [
    "Esto quiere decir que la asunción de realimentación negativa es correcta.\n",
    "\n",
    "A partir de ahora se considerará un modelo de OpAmp más complicado, que permitirá acercarse un poco más a una simulación más realista.\n",
    "\n",
    "### Análisis con OpAmp como integrador\n",
    "\n",
    "Desde el punto conceptual y algebraico, basta con asumir \n",
    "\n",
    "$$ A_s = \\frac{\\omega_t}{s}$$\n",
    "\n",
    "esto trae aparejado expresiones un tanto más complejas, que deben analizarse con más cuidado. Recordar que $\\omega_t$ puede interpretarse como la pulsación a la cual un opamp tiene una ganancia unitaria o de 0 dB. También se lo puede asemejar al **producto ganancia-ancho de banda** (GBP).\n",
    "\n",
    "Por este motivo, primero se revisará para el caso más sencillo cómo es el comportamiento del GIC en su configuración como *girador* de impedancias. \n",
    "\n",
    "$$ Z_1 = \\frac{r^2}{Z_2}$$\n",
    "\n",
    "Donde el comportamiento del girador anticipa que una $Z_2$ conectada en un puerto, será *girada* en su naturaleza reactiva cuando se la observe desde el otro puerto, como $Z_1$. La constante $r$ sirve como factor de proporcionalidad entre ambas impedancias y se mide en ohms. Esto quiere decir que una reactancia capacitiva en $Z_2$ se verá como **inductiva** en $Z_1$. En nuestro GIC, haciendo $Y_2 = s.C$ y todas las demás $Y_x = 1/R$ (x:1,3-5) resulta en\n",
    "\n",
    "$$ Z_1 = s. L_{eq} = s.R^2.C$$\n",
    "\n",
    "con $L_{eq} = R^2.C$. \n",
    "\n",
    "Ahora si se procede a aumentar la complejidad algebraica al considerar $ A_s = \\frac{\\omega_t}{s}$"
   ]
  },
  {
   "cell_type": "code",
   "execution_count": null,
   "metadata": {},
   "outputs": [],
   "source": [
    "Z13 = sp.simplify(sp.expand(Z12.subs(As, wt/s)))\n",
    "\n",
    "print_latex(a_equal_b_latex_s('Z_{13}', Z13))\n"
   ]
  },
  {
   "cell_type": "markdown",
   "metadata": {},
   "source": [
    "Ahora se procede a configurar al GIC como girador, para obtener"
   ]
  },
  {
   "cell_type": "code",
   "execution_count": null,
   "metadata": {},
   "outputs": [],
   "source": [
    "Z13 = sp.simplify(sp.expand(Z13.subs({Y1:G, Y2:s*C, Y3:G, Y4:G, Y5:G})))\n",
    "\n",
    "print_latex(a_equal_b_latex_s('Z_{1}', Z13))\n"
   ]
  },
  {
   "cell_type": "markdown",
   "metadata": {},
   "source": [
    "Si bien la expresión se simplifica notablemente, aún conserva bastante complejidad, sobretodo si se recuerda que el comportamiento debería ser similar a un inductor de valor $L_{eq}$, como el que fue hallado más arriba.\n",
    "\n",
    "A partir de ahora se sugiere pasar a un análisis numérico para ganar algo de perspectiva respecto a la respuesta en frecuencia de $Z_1$. Para ello asignaremos valores *razonables* a las variables $\\omega_t$, $C$ y $G$.\n"
   ]
  },
  {
   "cell_type": "code",
   "execution_count": null,
   "metadata": {},
   "outputs": [],
   "source": [
    "Z1num = sp.simplify(sp.expand(Z13.subs({wt:100, G:1, C:1})))\n",
    "\n",
    "print_latex(a_equal_b_latex_s('Z_{1}', Z1num))\n"
   ]
  },
  {
   "cell_type": "markdown",
   "metadata": {},
   "source": [
    "Asumimos una $\\omega_t=100$, lo que implicaría que el GBP del OpAmp está 100 veces por encima de la frecuencia de operación del GIC. Este valor persigue una finalidad didáctica antes que realista, dado que se pretende mantener coeficientes no demasiado grandes. En la práctica este valor podría ser bastante más elevado. Factorizando la expresión se obtiene"
   ]
  },
  {
   "cell_type": "code",
   "execution_count": null,
   "metadata": {},
   "outputs": [],
   "source": [
    "Z1num, _, _ = factorSOS(Z1num)\n",
    "\n",
    "print_latex(a_equal_b_latex_s('Z_{1}', Z1num))\n"
   ]
  },
  {
   "cell_type": "markdown",
   "metadata": {},
   "source": [
    "Y de esta manera se comienza a tomar algo de perspectiva del comportamiento realista del GIC. El comportamiento inductivo se afectará por la/s singularidades de menor frecuencia. En este caso, siguiendo el orden: 1) los polos complejos conjugados de radio $\\sqrt{49.8} \\approx 7$, luego 2) los ceros de $\\sqrt{5100} \\approx 71$ y finalmente 3) el polo en 101.\n",
    "\n",
    "En el siguiente análisis se observa cómo a dichas frecuencias se obtienen puntos de inflexión en las curvas de respuesta.\n",
    "\n",
    "Primero inicializamos el entorno gráfico"
   ]
  },
  {
   "cell_type": "code",
   "execution_count": null,
   "metadata": {},
   "outputs": [],
   "source": [
    "# Inicialización e importación de módulos\n",
    "\n",
    "# Módulos externos\n",
    "import matplotlib as mpl\n",
    "import matplotlib.pyplot as plt\n",
    "\n",
    "# Esta parte de código la agregamos SOLO en los notebooks para fijar el estilo de los gráficos.\n",
    "fig_sz_x = 13\n",
    "fig_sz_y = 7\n",
    "fig_dpi = 80 # dpi\n",
    "fig_font_size = 11\n",
    "\n",
    "mpl.rcParams['figure.figsize'] = (fig_sz_x, fig_sz_y)\n",
    "mpl.rcParams['figure.dpi'] = fig_dpi\n",
    "plt.rcParams.update({'font.size':fig_font_size})"
   ]
  },
  {
   "cell_type": "markdown",
   "metadata": {},
   "source": [
    "ahora si continuamos con la respuesta en frecuencia"
   ]
  },
  {
   "cell_type": "code",
   "execution_count": null,
   "metadata": {},
   "outputs": [],
   "source": [
    "fig_id, axes_hdl = bodePlot(symbfunc2tf(Z1num), filter_description='$\\omega_t = {:d}$'.format(100), fig_id=1)"
   ]
  },
  {
   "cell_type": "markdown",
   "metadata": {},
   "source": [
    "En el siguiente análsis, se observa la dependencia del GIC respecto al GBP del OpAmp y en comparativa se incorpora el comportamiento del girador idealizado."
   ]
  },
  {
   "cell_type": "code",
   "execution_count": null,
   "metadata": {},
   "outputs": [],
   "source": [
    "Z1_ideal = sp.simplify(sp.expand(Z1.subs({Y1:G, Y2:s*C, Y3:G, Y4:G, Y5:G})))\n",
    "Z1_ideal = Z1_ideal.subs({G:1, C:1})\n",
    "\n",
    "wt_all = [10, 100, 1000]\n",
    "fig_id, axes_hdl = bodePlot(symbfunc2tf(Z1_ideal), filter_description='Inductor ideal')\n",
    "\n",
    "for wti in wt_all:\n",
    "\n",
    "    fig_id, axes_hdl = bodePlot(symbfunc2tf(sp.simplify(sp.expand(Z13.subs({wt:wti, G:1, C:1})))), filter_description='$\\omega_t = {:d}$'.format(wti), fig_id=1)\n"
   ]
  },
  {
   "cell_type": "markdown",
   "metadata": {},
   "source": [
    "Notar cómo el alejamiento de las tres curvas respecto del comportamiento idealizado indica el ancho de banda útil del GIC de Antoniou. Para el caso analizado de $\\omega_t=100$, esto ocurre algo antes de los 7 r/s (curva verde).  Ciertamente a mayor GBP, mayor ancho de banda en el que el girador se comportará como tal."
   ]
  },
  {
   "cell_type": "markdown",
   "metadata": {},
   "source": [
    "### Un modelo circuital de $Z_1$\n",
    "\n",
    "Ahora se intentará obtener una red que responda al comportamiento de $Z_1$, esto es realizar la síntesis de la impedancia de entrada. Para la mayoría de estudiantes que revisa este documento al mismo tiempo que está cursando la asignatura, es posible que no siga al detalle el siguiente procedimiento todavía. Es que se trata de hallar una red a partir de una respuesta en frecuencia, o una función matemática que define una función de excitación. Este tema se verá durante el segundo cuatrimestre, y se puede saltear el siguiente procedimiento."
   ]
  },
  {
   "cell_type": "code",
   "execution_count": null,
   "metadata": {},
   "outputs": [],
   "source": [
    "print_latex(a_equal_b_latex_s('Z_{1}', Z1num))"
   ]
  },
  {
   "cell_type": "code",
   "execution_count": null,
   "metadata": {},
   "outputs": [],
   "source": [
    "Z1 = sp.simplify(sp.expand(Z13.subs({wt:100, G:1, C:1})))\n",
    "\n",
    "Y2, YLeq = remover_polo_dc(1/Z1)\n",
    "\n",
    "Leq = 1/YLeq/s\n",
    "\n",
    "# parte imaginaria de la variable compleja s\n",
    "ww = sp.symbols(\"\\omega\", real = True)\n",
    "\n",
    "re_Y2 = sp.simplify(sp.expand(sp.re(Y2.subs({s:(sp.I*ww)}))))\n",
    "\n",
    "G1 = sp.minimum(re_Y2, ww, domain=sp.Reals)\n",
    "\n",
    "R1 = 1/G1\n",
    "\n",
    "Y4 = sp.simplify(sp.expand(Y2 - G1))\n",
    "\n",
    "Z4 = 1/Y4\n",
    "\n",
    "Z6, ZC1 = remover_polo_dc(Z4)\n",
    "\n",
    "C1 = 1/ZC1/s\n",
    "\n",
    "re_Z6 = sp.simplify(sp.expand(sp.re(Z6.subs({s:(sp.I*ww)}))))\n",
    "\n",
    "R2 = sp.minimum(re_Z6, ww, domain=sp.Reals)\n",
    "\n",
    "Z8 = sp.simplify(sp.expand(Z6 - R2))\n",
    "\n",
    "Y8 = 1/Z8\n",
    "\n",
    "Y8 =  sp.expand(Y8).as_ordered_terms()\n",
    "\n",
    "R3 = Y8[0]\n",
    "L2 = 1/Y8[1]/s\n"
   ]
  },
  {
   "cell_type": "markdown",
   "metadata": {},
   "source": [
    "Una vez obtenido los elementos circuitales, podemos agruparlos en un circuito gracias a las posibilidades del módulo [schemdraw](https://schemdraw.readthedocs.io/en/stable/) y [PyTC2](https://pytc2.readthedocs.io/en/stable/)."
   ]
  },
  {
   "cell_type": "code",
   "execution_count": null,
   "metadata": {},
   "outputs": [],
   "source": [
    "from schemdraw import Drawing\n",
    "from pytc2.dibujar import dibujar_puerto_entrada, dibujar_funcion_exc_abajo, dibujar_elemento_serie, dibujar_elemento_derivacion, dibujar_espaciador\n",
    "\n",
    "d = Drawing(unit=4)\n",
    "d = dibujar_puerto_entrada(d)\n",
    "d = dibujar_funcion_exc_abajo(d, \n",
    "                              'Z_1',  \n",
    "                              Z1, \n",
    "                              hacia_salida = True)\n",
    "\n",
    "d = dibujar_elemento_serie(d, \"L\", sym_label=Leq)\n",
    "d = dibujar_elemento_derivacion(d, \"R\", sym_label=R1)\n",
    "d = dibujar_elemento_serie(d, \"C\", sym_label=C1.evalf(3))\n",
    "d = dibujar_elemento_serie(d, \"R\", sym_label=R2.evalf(3))\n",
    "d = dibujar_elemento_derivacion(d, \"R\", sym_label=R3.evalf(3))\n",
    "d = dibujar_espaciador(d)\n",
    "d = dibujar_elemento_derivacion(d, \"L\", sym_label=L2.evalf(3), with_nodes=False)\n",
    "display(d)\n"
   ]
  },
  {
   "cell_type": "markdown",
   "metadata": {},
   "source": [
    "Notar cómo el comportamiento inductivo se destaca en bajas frecuencias aproximándose al comportamiento del girador ideal con valor $L_{eq} = 1$.\n",
    "\n",
    "### Finalmente, la simulación circuital\n",
    "\n",
    "Una vez que se tiene una buena perspectiva respecto al comportamiento idealizado del GIC, incluso al haber analizado el efecto del GBP en este circuito, se puede continuar con la simulación circuital. Especialmente con el objetivo de utilizar modelos reales de OpAmp's provistos por los fabricantes. Para tal fin se utilizará un resonador pasivo RLC sintonizado a $\\omega_0 = 1$ r/s y $Q = 1$, con la finalidad de *activar* el inductor mediante un GIC.\n",
    "\n",
    "<img src=\"./GIC_resonador.png\" width=\"900\" style=\"border:10px solid white\" /> \n",
    "\n",
    "Notar que en la parametrización de la red, el GBW (GBP en este documento) está 4 órdenes de magnitud por encima de la frecuencia de operación del resonador RLC para asegurar el comportamiento adecuado del GIC, a esa frecuencia y otras que fueron analizadas en otros escenarios de simulación. \n",
    "\n",
    "<img src=\"./GIC_resonador_respuesta.png\" width=\"900\" style=\"border:10px solid white\" /> \n",
    "\n",
    "El comportamiento es el esperado para el caso ideal, al verificarse que la red responde de manera similar al análisis numérico y simbólico. A continuación se observa la respuesta inductiva del GIC (en azul), superpuesta a la respuesta pasabanda del resonador (en rojo). Se observa la respuesta en frecuencia para $\\mathrm{GBW} = f_0 * 10^k$ para $k = 2, 3, 4$, y la respuesta pasabanda que no cambia significativamente.\n",
    "\n",
    "<img src=\"./GIC_resonador_respuesta_2.png\" width=\"900\" style=\"border:10px solid white\" /> \n"
   ]
  }
 ],
 "metadata": {
  "_draft": {
   "nbviewer_url": "https://gist.github.com/ac51adac5315287242cfd3dfb27a0196"
  },
  "gist": {
   "data": {
    "description": "mariano/Docencia/TC2/scripts/digital filters/python/Filtrado digital. Aplicaciones electrocardiografía.ipynb",
    "public": true
   },
   "id": "ac51adac5315287242cfd3dfb27a0196"
  },
  "kernelspec": {
   "display_name": "Python 3 (ipykernel)",
   "language": "python",
   "name": "python3"
  },
  "language_info": {
   "codemirror_mode": {
    "name": "ipython",
    "version": 3
   },
   "file_extension": ".py",
   "mimetype": "text/x-python",
   "name": "python",
   "nbconvert_exporter": "python",
   "pygments_lexer": "ipython3",
   "version": "3.10.12"
  }
 },
 "nbformat": 4,
 "nbformat_minor": 4
}
