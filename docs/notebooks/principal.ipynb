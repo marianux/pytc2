{
 "cells": [
  {
   "cell_type": "markdown",
   "metadata": {},
   "source": [
    "# PyTC2 NB Ejemplos "
   ]
  },
  {
   "cell_type": "markdown",
   "metadata": {
    "jp-MarkdownHeadingCollapsed": true
   },
   "source": [
    "\n",
    "En los siguientes notebooks encontrarán ejemplos de cómo usar la librería **PyTC2** siguiendo los grandes temas de la asignatura *Teoría de los Circuitos 2* (TC2) de la Universidad Tecnológica Nacional, en Buenos Aires, Argentina. &nbsp; \n",
    "\n",
    " ## Análisis y síntesis de redes pasivas y activas\n",
    "\n",
    " a. [Función transferencia pasabanda (parametrización $\\omega_0$ y $Q$)](ejnb_parametrizacion_pasabanda.ipynb)\n",
    "\n",
    " b. [Análisis de un filtro pasabajo pasivo](ejnb_filtro_pasivo_sos.ipynb)\n",
    "\n",
    " c. [Implementación de un pasabanda mediante el conversor generalizado de impedancias](ejnb_GIC_Antoniou.ipynb)\n",
    "\n",
    " d. [Análisis de un filtro pasabajo activo Sallen-Key](ejnb_Sallen-Key&#32;sensibilidad.ipynb)\n",
    "\n",
    "\n",
    "## Teoría de la aproximación y su aplicación a los filtros eléctricos\n",
    " \n",
    " a. [Comparativa de funciones de aproximación](ejnb_ComparativaOrdenes.ipynb)\n",
    "\n",
    " b. [Transformación pasabanda](ejnb_transformacion_pasabanda.ipynb)\n",
    " \n",
    " c. [Factorización y ordenamiento de SOS](ejnb_secciones_SOS.ipynb)\n",
    "     \n",
    "\n",
    "## Teoría de cuadripolos lineales\n",
    " \n",
    "a. [Cuadripolos de redes elementales](ejnb_cuadripolos_elementales.ipynb)\n",
    "\n",
    "b. [Conversion de modelos](ejnb_conversion_cuadripolos.ipynb)\n",
    "\n",
    "c. [Matriz admitancia indefinida para el análisis y transformación de redes](ejnb_analisis_mai.ipynb)\n",
    "    \n",
    "d. [Análisis nodal modificado para el análisis de redes](ejnb_analisis_mna.ipynb)\n",
    "    \n",
    " \n",
    "## Filtros digitales\n",
    " \n",
    "a. [Filtros digitales a partir de filtros analógicos](ejnb_sintesis_digital_bilineal.ipynb)\n",
    "\n",
    "b. [Filtros recursivos, o de respuesta al impulso infinita (IIR)](ejnb_filtros_IIR.ipynb)\n",
    "\n",
    "c. [Filtros de respuesta al impulso finita o no recursivos (FIR)](ejnb_filtros_FIR.ipynb)\n",
    "\n",
    " 1. [Diseño por cuadrados mínimos ponderados (WLS)](Least_Squares_Filter_Design.ipynb)\n",
    " 2. [Algoritmo Parks-McClellan (equiripple)](PM_Remez_Filter_Design.ipynb)\n",
    " 2. [Aplicaciones de filtros FIR con fase lineal](aplicaciones_FIR_simetricos.ipynb)\n",
    "    \n",
    "## Síntesis de dipolos\n",
    " \n",
    "a. [Síntesis de funciones de excitación no disipativas](ejnb_funciones_excitacion.ipynb)\n",
    "\n",
    "b. [Síntesis de funciones de excitación RC-RL](ejnb_funciones_excitacion_disipativas.ipynb)\n",
    "\n",
    "c. [Remoción parcial de componentes](ejnb_remociones_parciales.ipynb)\n",
    "\n",
    "d. [Síntesis de algunas funciones RLC](ejnb_funciones_excitacion_RLC.ipynb)\n",
    "    \n",
    "## Síntesis de cuadripolos\n",
    " \n",
    "a. [Síntesis de redes descargadas](ejnb_funciones_transf_descargadas.ipynb)\n",
    "\n",
    "b. [(En desarrollo) Síntesis de redes simplemente cargadas](ejnb_funciones_transf_simplemente_cargadas.ipynb)\n",
    "\n",
    "c. [(En desarrollo) Síntesis de redes de resistencia constante](ejnb_funciones_transf_R_constante.ipynb)\n",
    "\n",
    "d. [(En desarrollo) Síntesis de redes doblemente cargadas](ejnb_funciones_transf_doblemente_cargadas.ipynb)\n",
    "    \n",
    "\n",
    "## Diseño de atenuadores y adaptadores de impedancia.\n",
    " \n",
    "a. [(En desarrollo) Atenuadores adaptados de banda ancha y angosta](ejnb_atenuadores.ipynb)\n",
    "\n",
    "b. [(En desarrollo) Adaptadores con transferencia prescrita](ejnb_adaptadores_restr_transferencia.ipynb)\n",
    "    \n",
    "\n",
    " "
   ]
  }
 ],
 "metadata": {
  "kernelspec": {
   "display_name": "Python 3 (ipykernel)",
   "language": "python",
   "name": "python3"
  },
  "language_info": {
   "codemirror_mode": {
    "name": "ipython",
    "version": 3
   },
   "file_extension": ".py",
   "mimetype": "text/x-python",
   "name": "python",
   "nbconvert_exporter": "python",
   "pygments_lexer": "ipython3",
   "version": "3.10.15"
  },
  "varInspector": {
   "cols": {
    "lenName": 16,
    "lenType": 16,
    "lenVar": 40
   },
   "kernels_config": {
    "python": {
     "delete_cmd_postfix": "",
     "delete_cmd_prefix": "del ",
     "library": "var_list.py",
     "varRefreshCmd": "print(var_dic_list())"
    },
    "r": {
     "delete_cmd_postfix": ") ",
     "delete_cmd_prefix": "rm(",
     "library": "var_list.r",
     "varRefreshCmd": "cat(var_dic_list()) "
    }
   },
   "types_to_exclude": [
    "module",
    "function",
    "builtin_function_or_method",
    "instance",
    "_Feature"
   ],
   "window_display": false
  }
 },
 "nbformat": 4,
 "nbformat_minor": 4
}
