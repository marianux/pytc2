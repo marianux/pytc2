{
 "cells": [
  {
   "cell_type": "markdown",
   "metadata": {},
   "source": [
    "# Síntesis de redes no disipativas doblemente cargadas\n",
    "<img src=\"./img/logo_UTN.svg\" align=\"right\" width=\"150\" /> \n",
    "\n",
    "#### Por Mariano Llamedo Soria"
   ]
  },
  {
   "cell_type": "markdown",
   "metadata": {},
   "source": [
    "### Resumen \n",
    "\n",
    "En este notebook aplicarán los conceptos de síntesis de inmitancias para la síntesis de un filtro pasabanda cargado tanto en su entrada como la salida. Se presentarán los parámetros scattering necesarios para la síntesis y las de dichos parámetros para redes no disipativas. \n",
    "\n",
    "Se usarán algunas funciones de PyTC2 para realizar los cálculos y presentar los resultados.\n",
    "\n",
    "* Funciones de dibujo de redes: [dibujar_puerto_entrada](), [dibujar_funcion_exc_abajo](), [dibujar_elemento_derivacion](), [dibujar_espacio_derivacion](), [dibujar_elemento_serie]()\n",
    "* Funciones de síntesis de dipolos: [remover_polo_infinito](), [remover_valor_en_infinito]()\n",
    "* Funciones para presentación de markdown y latex: [print_latex](), [print_subtitle](), [a_equal_b_latex_s]()\n"
   ]
  },
  {
   "cell_type": "markdown",
   "metadata": {},
   "source": [
    "### Introducción\n",
    "\n",
    "La síntesis de redes eléctricas no disipativas doblemente cargadas es de especial utilidad para el diseño de filtros de alta frecuencia y/o potencia. Este método fue originalmente propuesto por [Sidney Darlington](https://en.wikipedia.org/wiki/Sidney_Darlington) en 1939, permitiendo que un filtro cumpla con una respuesta prescrita de pérdidas por inserción, como las de Butterworth, Chebyshev y Bessel. El gran aporte de Darlington fue relacionar las pérdidas de inserción con las de retorno, y en consecuencia con la impedancia de entrada de la red, siempre que la red sea no disipativa. Con el tiempo el método se adaptó a los **parámetros de dispersión** (S ó scattering), que están íntimamente relacionados con las pérdidas de un filtro.\n",
    "\n",
    "Los **parámetros S** son útiles en el análisis de redes cuando se tienen cargas en ambos puertos. Estos parámetros relacionan las ondas normalizadas incidentes ($a$) y reflejadas ($b$) en cada plano de referencia (puerto en éste contexto) del cuadripolo:"
   ]
  },
  {
   "cell_type": "markdown",
   "metadata": {},
   "source": [
    "![nada](./img/nada.png)\n",
    "<div style=\"text-align: center;\"><img src=\"./img/sint_transf_tension_doble.png\" alt=\"spar\" style=\"width:600px;\"></div>"
   ]
  },
  {
   "cell_type": "markdown",
   "metadata": {},
   "source": [
    "Se plantea el modelo lineal para el cuadripolo \n",
    "\n",
    "\n",
    "$$ b = S \\cdot a $$\n",
    "\n",
    "o de forma explícita para cada puerto\n",
    "\n",
    "$$\n",
    "\\begin{pmatrix} b_1 \\\\ b_2 \\end{pmatrix} = \\begin{pmatrix} S_{11} & S_{12} \\\\ S_{21} & S_{22} \\end{pmatrix} \\begin{pmatrix} a_1 \\\\ a_2 \\end{pmatrix}\n",
    "$$\n",
    "\n",
    "Habrá dos tipos de parámetros:\n",
    "\n",
    "Un coeficiente de reflexión por cada puerto $x$, denominado $S_{xx}$ mientras el puerto restante está cargado con la resistencia característica $ R_{G1} =  R_{G2} = R_0 $. Para un filtro de dos puertos se tiene entonces:\n",
    "   $$\n",
    "   S_{11} = \\frac{b_1}{a_1} \\Bigg|_{a_2 = 0} = \\frac{Z_1 - R_0}{Z_1 + R_0}\n",
    "   $$\n",
    "   $$\n",
    "   S_{22} = \\frac{b_2}{a_2} \\Bigg|_{a_1 = 0} = \\frac{Z_2 - R_0}{Z_2 + R_0}\n",
    "   $$\n",
    "  \n",
    "Siendo $Z_x$ la impedancia vista desde el plano $x$ hacia el cuadripolo cuando se conecta en el otro puerto $R_0$.\n",
    "\n",
    "También habrá un coeficiente de transmisión para modelar el flujo de potencia del puerto $x$ al puerto $y$, denominado $ S_{yx} $. Circuitalmente se modela con un generador $V_{gx}$ con resistencia interna $R_{Gx}$ y una carga $R_{Gy}$ en el puerto $y$. Resulta entonces\n",
    "\n",
    "   $$\n",
    "   S_{21} = \\frac{b_2}{a_1} \\Bigg|_{a_2 = 0} = \\frac{V_2}{V_{G1}/2} \\cdot \\sqrt{\\frac{R_{G1}}{R_{G2}}}\n",
    "   $$\n",
    "   $$\n",
    "   S_{12} = \\frac{b_1}{a_2} \\Bigg|_{a_1 = 0} = \\frac{V_1}{V_{G2}/2} \\cdot \\sqrt{\\frac{R_{G2}}{R_{G1}}}\n",
    "   $$\n",
    "\n",
    "Para un sistema pasivo y no disipativo, se cumple que la matriz de parámetros $S$ es **unitaria**. Esto significa que:\n",
    "\n",
    "$$ S^H \\cdot S = U $$\n",
    "\n",
    "siendo $ S^H $ la matriz conjugada y transpuesta, o *Hermitiana*, y $U$ la matriz unitaria. Entonces los parámetros $S$ cumplen que\n",
    "\n",
    "$$\n",
    "S_{11}^* S_{11} + S_{21}^* S_{21} =|S_{11}|^2 + |S_{21}|^2 = 1\n",
    "$$\n",
    "$$\n",
    "|S_{22}|^2 + |S_{12}|^2 = 1\n",
    "$$\n",
    "$$\n",
    "S_{11} S_{12}^* + S_{21} S_{22}^* = 0\n",
    "$$\n",
    "donde el operador $*$ indica el conjugado complejo. La primera ecuación es de vital importancia, porque indica que toda la potencia disponible en el puerto 1 que no se transmita, necesariamente debe reflejarse al generador ya que el cuadripolo no podrá disiparla. La tercera ecuación también será importante más adelante cuando se generalice el enfoque. Retomando, el parámetro $|S_{11}|^2$ estará condicionado por\n",
    "\n",
    "$$\n",
    "|S_{11}|^2 =  1 - |S_{21}|^2\n",
    "$$\n",
    "\n",
    "que a su vez\n",
    "\n",
    "$$\n",
    "|S_{11}|^2 =  S_{11}^* S_{11} = S_{11}(-s)  S_{11}(s)\n",
    "$$\n",
    "\n",
    "es decir que podemos hallar el factor $S_{11}(s)$ a partir de una restricción en el ratio de potencias $|S_{21}|^2$. Como ya se anticipó, [Sidney Darlington](https://en.wikipedia.org/wiki/Sidney_Darlington) propuso un método de síntesis muy elegante, en el que a partir de dicha restricción se condiciona la impedancia de entrada al cuadripolo, sabiendo que\n",
    "\n",
    "$$\n",
    "S_{11} = \\pm \\frac{ Z_1 - R_0}{ Z_1 + R_0}\n",
    "$$\n",
    "\n",
    "Notar que el signo de $S_{11}$ es un grado de libertad con el que se cuenta a la hora de sintetizar. Entonces la impedancia en el puerto de entrada será, dependiendo la elección del signo de $S_{11}$\n",
    "\n",
    "$$\n",
    "Z_1 = R_0 \\cdot \\frac{1 \\pm S_{11}}{1 \\mp S_{11}}\n",
    "$$\n",
    "\n",
    "Cabe destacar que si bien $Z_1$ contempla la impedancia vista hacia un cuadripolo no disipativo, debe recordarse que la condición de medición de $S_{11}$ asume que el puerto 2 esté cargado con $R_{G2} = R_0$. Por este motivo, $Z_1$ será una impedancia RLC **muy particular**, dado que estará compuesta por una inmitancia no disipativa seguida de la carga $R_0$ al final. Esto permite que todos los métodos de síntesis vistos hasta el momento sean aplicables para diseñar el cuadripolo no disipativo, con la particularidad de que el último componente será $R_0$."
   ]
  },
  {
   "cell_type": "markdown",
   "metadata": {},
   "source": [
    "### Un enfoque alternativo\n",
    "\n",
    "A esta altura está claro que los parámetros S de un filtro no disipativo cargado en ambos extremos está condicionado por la ecuación de complementaridad\n",
    "\n",
    "$$\n",
    "|S_{11}|^2 +  |S_{21}|^2 =  1\n",
    "$$\n",
    "\n",
    "De la misma podemos expresar, siguiendo el enfoque propuesto por *Cameron et. al.*\n",
    "\n",
    "$$ S_{21} =  \\frac{P(s)}{\\epsilon \\cdot E(s)} $$\n",
    "\n",
    "donde $\\epsilon$ será un factor de escala para que ambos polinomios $P$ y $E$ sean *mónicos*. Entonces, simplificando la dependencia de $s$\n",
    "\n",
    "$$ |S_{21}|^2 =  \\frac{P . P^*}{\\epsilon^2 \\cdot (E . E^*)} $$\n",
    "\n",
    "y en consecuencia\n",
    "\n",
    "$$\n",
    "|S_{11}|^2  = \\frac{\\epsilon^2 \\cdot (E . E^*) - P . P^*}{E . E^*} = \\frac{F . F^*}{\\epsilon_R^2 \\cdot (E . E^*)} \n",
    "$$\n",
    "\n",
    "es decir que del mismo modo que con $ S_{21}$, también se podrá expresar\n",
    "\n",
    "$$\n",
    "S_{11} = \\pm \\frac{F(s)}{\\epsilon_R \\cdot E(s)} \n",
    "$$\n",
    "\n",
    "y es claro que todos los parámetros compartirán los mismos polos definidos por $E(s)$. Es decir que la matriz S se puede expresar como\n",
    "\n",
    "$$\n",
    "S = \\begin{pmatrix} S_{11} & S_{12} \\\\ S_{21} & S_{22} \\end{pmatrix} =  \\frac{1}{E(s)} \\begin{pmatrix}  \\frac{F(s)}{\\epsilon_R} & \\frac{P(s)}{\\epsilon} \\\\ \\frac{P(s)}{\\epsilon} & \\frac{F(s)}{\\epsilon_R} \\end{pmatrix} \n",
    "$$\n",
    "\n",
    "Se simplifican algunos detalles para facilitar el ejemplo que se presentará a continuación (Ver *Cogollos* cap 2. ó *Cameron et. al.* cap. 6 para un tratamiento general).\n",
    "\n",
    "Finalmente podemos expresar la impedancia de entrada al filtro como\n",
    "\n",
    "$$\n",
    "Z_1 = R_0 \\cdot \\frac{1 \\pm S_{11}}{1 \\mp S_{11}} = R_0 \\cdot \\frac{\\epsilon_R.E \\pm F}{\\epsilon_R.E \\mp F}\n",
    "$$\n",
    "\n",
    "Resta por aclarar cómo se calculan las constantes $\\epsilon$ y $\\epsilon_R$, que permitirán fijar las pérdidas de transmisión y retorno en frecuencias señaladas dependiendo de las características del filtro, pero eso lo dejaremos para más adelante por ahora.\n",
    "\n",
    "### Referencias\n",
    "\n",
    "1. [Richard J. Cameron, Chandra M. Kudsia, Raafat R. Mansour. *Microwave Filters for Communication Systems Fundamentals, Design and Applications. (2007). John Wiley & Sons](https://drive.google.com/file/d/1Fdr5WT8e7g9W5j4YM5Xd0-Za1BhrlQQ_/view?usp=drive_link)\n",
    "2. [Cogollos Borrás, Santiago. *Fundamentos de la Teoría de Filtros*. (2016). Editorial de la Universitat Politècnica de València.](https://drive.google.com/file/d/1g4pgNS1m9dF43ZyR6LdkE-HAntfswhwh/view?usp=drive_link)\n"
   ]
  },
  {
   "cell_type": "markdown",
   "metadata": {},
   "source": []
  },
  {
   "cell_type": "code",
   "execution_count": 1,
   "metadata": {
    "scrolled": true
   },
   "outputs": [],
   "source": [
    "import sympy as sp\n",
    "import numpy as np\n",
    "\n",
    "# Ahora importamos las funciones de PyTC2\n",
    "\n",
    "from pytc2.remociones import remover_polo_dc, remover_polo_infinito, remover_polo_jw, isFRP, modsq2mod_s, trim_func_s\n",
    "\n",
    "from pytc2.general import print_latex, print_subtitle, a_equal_b_latex_s\n",
    "from IPython.display import display,  Markdown\n",
    "\n",
    "# Importante importar símbolos de variables \n",
    "from pytc2.general import s, w, simplify_n_monic\n"
   ]
  },
  {
   "cell_type": "markdown",
   "metadata": {},
   "source": [
    "## Ejemplo 1: Pasabanda Butterworth\n",
    "\n",
    "Implemente un filtro pasabanda Butterworth de 4º orden con un $Q = 5$.\n",
    "\n",
    "Aprovechando que este método nos permite un grado de detalle tan preciso para establecer la función transferencia $S_{21}$, se procede a hallar la función transferencia que satisface dicho requerimiento. Para ello se retomamará el análisis que hicimos en el notebook [núcleo de transformación pasabanda](ejnb_transformacion_pasabanda.ipynb). En resumen, a partir de una transferencia pasabajos *Butterworth* de segundo orden, se llega a \n",
    "\n",
    "$$ T_{bp}(s) = \\frac{s^2 \\cdot 0.04}{s^4 + s^3 \\cdot 0.2828+s^2 \\cdot 2.04+ s \\cdot 0.2828 + 1} $$ \n",
    "\n",
    "luego simplemente se asume que $ S_{21} = T_{bp} $. Debido a la complejidad de la expresión, el ejercicio demandará cierta destreza algebraica que puede suplirse gracias a las capacidades simbólicas de PyTC2 y SymPy.\n",
    "\n",
    "Comenzamos buscando la expresión de $Z_1$ a partir de  $S_{11}$, no sin antes definir $S_{21}$."
   ]
  },
  {
   "cell_type": "code",
   "execution_count": 2,
   "metadata": {},
   "outputs": [
    {
     "data": {
      "text/latex": [
       "$\\displaystyle S_{21}=\\frac{s^{2}}{25 \\left(s^{4} + \\frac{\\sqrt{2} s^{3}}{5} + \\frac{51 s^{2}}{25} + \\frac{\\sqrt{2} s}{5} + 1\\right)}$"
      ],
      "text/plain": [
       "<IPython.core.display.Math object>"
      ]
     },
     "metadata": {},
     "output_type": "display_data"
    },
    {
     "data": {
      "text/markdown": [
       "#### Corroboramos ganancia $\\le 1$ el centro de la banda de paso"
      ],
      "text/plain": [
       "<IPython.core.display.Markdown object>"
      ]
     },
     "metadata": {},
     "output_type": "display_data"
    },
    {
     "data": {
      "text/latex": [
       "$\\displaystyle S_{21}(\\omega = 1)=1.0$"
      ],
      "text/plain": [
       "<IPython.core.display.Math object>"
      ]
     },
     "metadata": {},
     "output_type": "display_data"
    }
   ],
   "source": [
    "# Resolución simbólica\n",
    "\n",
    "# Q de la transformación\n",
    "Q_bp = sp.Rational(5)\n",
    "Q_lp = sp.sqrt(2)/2\n",
    "\n",
    "# nucleo de transformación pasabanda\n",
    "Kbp = Q_bp * (s**2 + 1) / s\n",
    "\n",
    "T2proto = 1/(s**2 + s * 1/Q_lp + 1)\n",
    "\n",
    "H2bp = sp.simplify(sp.expand(T2proto.subs(s, Kbp)))\n",
    "\n",
    "S21 = H2bp\n",
    "\n",
    "ks21, Ps, Es = simplify_n_monic(S21)\n",
    "\n",
    "S21 = ks21 * Ps / Es\n",
    "\n",
    "print_latex(a_equal_b_latex_s('S_{21}', S21))\n",
    "\n",
    "print_subtitle('Corroboramos ganancia $\\le 1$ el centro de la banda de paso')\n",
    "print_latex(a_equal_b_latex_s('S_{21}(\\omega = 1)', sp.simplify(sp.expand(sp.Abs(S21.subs(s, sp.I*1)))).evalf(4) ))\n",
    "\n"
   ]
  },
  {
   "cell_type": "markdown",
   "metadata": {},
   "source": [
    "Luego se procede a hallar el parámetro $S_{11}$, que será su complementario en potencia."
   ]
  },
  {
   "cell_type": "code",
   "execution_count": 3,
   "metadata": {
    "scrolled": true
   },
   "outputs": [
    {
     "data": {
      "image/png": "[encoded data removed]",
      "text/plain": [
       "<Figure size 800x500 with 1 Axes>"
      ]
     },
     "metadata": {},
     "output_type": "display_data"
    }
   ],
   "source": [
    "import matplotlib.pyplot as plt\n",
    "\n",
    "def plt_Sparams(S21sq, S11sq, bDb = True ):\n",
    "        \n",
    "    # Convertir las funciones simbólicas a funciones numéricas para evaluar\n",
    "    mod_S21_squared_func = sp.lambdify(w, S21sq.subs(s, sp.I*w), modules='numpy')\n",
    "    mod_S11_squared_func = sp.lambdify(w, S11sq.subs(s, sp.I*w), modules='numpy')\n",
    "    \n",
    "    # Crear un rango de frecuencias para graficar\n",
    "    frequencies = np.logspace(-1, 1, 1000)\n",
    "    \n",
    "    # Evaluar las funciones en el rango\n",
    "    S21_vals = mod_S21_squared_func(frequencies)\n",
    "    S11_vals = mod_S11_squared_func(frequencies)\n",
    "    \n",
    "    if bDb:\n",
    "        # Convertir a decibelios (10 * log10(valor))\n",
    "        S21_dB = 10 * np.log10(S21_vals)\n",
    "        S11_dB = 10 * np.log10(S11_vals)\n",
    "        s21_lbl = r'$|S_{21}|^2$ (dB)'\n",
    "        s11_lbl = r'$|S_{11}|^2$ (dB)'\n",
    "        ylbl = 'Módulo al cuadrado [dB]'\n",
    "        \n",
    "    else:\n",
    "        S21_dB = S21_vals\n",
    "        S11_dB = S11_vals\n",
    "        s21_lbl = r'$|S_{21}|^2$'\n",
    "        s11_lbl = r'$|S_{11}|^2$'\n",
    "        ylbl = 'Módulo al cuadrado'\n",
    "            \n",
    "    \n",
    "    # Graficar en escala log-log\n",
    "    plt.figure(1, figsize=(8, 5))\n",
    "    plt.semilogx(frequencies, S21_dB, label=s21_lbl, color='blue')\n",
    "    plt.semilogx(frequencies, S11_dB, label=s11_lbl, color='red', linestyle='--')\n",
    "    plt.xlabel('Frecuencia (f) [Hz]')\n",
    "    plt.ylabel(ylbl)\n",
    "    plt.title(r'Complementariedad de $|S_{21}|^2$ y $|S_{11}|^2$')\n",
    "    plt.legend()\n",
    "    plt.grid(which='both', linestyle='--', linewidth=0.5)\n",
    "\n",
    "\n",
    "S21sq = sp.simplify(sp.expand(S21 * S21.subs(s, -s)))\n",
    "\n",
    "S11sq = sp.simplify(sp.expand(1 - S21sq))\n",
    "\n",
    "plt_Sparams(S21sq, S11sq, bDb = True)\n",
    "\n",
    "plt.ylim([-40, 3])\n",
    "plt.xlim([.6, 2])\n",
    "plt.show()\n"
   ]
  },
  {
   "cell_type": "markdown",
   "metadata": {},
   "source": [
    "Es interesante notar que las pérdidas por retorno ($R_L$) son inferiores a 20 dB solo en una pequeña parte de la banda pasante del filtro. Recordar que \n",
    "\n",
    "$$\n",
    "R_L = -20.\\log|S_{11}|\n",
    "$$\n",
    "\n",
    "mientras que las pérdidas por insersión $I_L$\n",
    "\n",
    "$$\n",
    "I_L = -20.\\log|S_{21}|\n",
    "$$\n",
    "\n",
    "También se aprecia la complementaridad de ambos parámetros $S_{21}$ y $S_{11}$, aunque es necesario visualizarlos en unidades lineales para poder tener certeza que suman 1 a cualquier frecuencia."
   ]
  },
  {
   "cell_type": "code",
   "execution_count": 4,
   "metadata": {
    "scrolled": true
   },
   "outputs": [
    {
     "data": {
      "image/png": "[encoded data removed]",
      "text/plain": [
       "<Figure size 800x500 with 1 Axes>"
      ]
     },
     "metadata": {},
     "output_type": "display_data"
    }
   ],
   "source": [
    "plt_Sparams(S21sq, S11sq, bDb = False)\n",
    "\n",
    "plt.xlim([.6, 2])\n",
    "plt.show()\n"
   ]
  },
  {
   "cell_type": "markdown",
   "metadata": {},
   "source": [
    "Asegurar que un filtro mantenga en su banda de paso las $R_L$ por debajo de 20 dB es equivalente a asegurar la adaptación al generador y a la carga. Para ello se buscará la relación entre las $R_L$ y el parámetro $\\epsilon$."
   ]
  },
  {
   "cell_type": "markdown",
   "metadata": {},
   "source": [
    "Entonces volviendo a la ecuación de complementaridad\n",
    "\n",
    "$$\n",
    "|S_{11}|^2 +  |S_{21}|^2 =  1 \n",
    "$$\n",
    "$$\n",
    "1 + \\frac{|S_{21}|^2}{|S_{11}|^2}  =  \\frac{1}{|S_{11}|^2} = 10^{\\frac{R_L}{10}}\n",
    "$$\n",
    "tenemos\n",
    "$$\n",
    "1 + \\frac{\\epsilon_R^2}{\\epsilon^2} \\cdot \\left|\\frac{P(s)}{F(s)}\\right|^2 = 10^{\\frac{R_L}{10}}\n",
    "$$\n",
    "\n",
    "Como el filtro que estamos analizando no tiene ceros de transmisión en frecuencias finitas, debe cumplir la condición de unitariedad en los extremos, donde $|S_{21}|=0$, luego\n",
    "\n",
    "$$\n",
    "\\lim_{\\omega \\to \\infty} |S_{11}(s)|^2 + 0 = 1\n",
    "$$\n",
    "\n",
    "$$\n",
    "\\lim_{\\omega \\to \\infty} \\left| \\frac{F(s)}{\\epsilon_R.E(s)} \\right| = 1\n",
    "$$\n",
    "\n",
    "recordando que ambos polinomios son mónicos, entonces $\\epsilon_R = 1$, y en consecuencia\n",
    "\n",
    "$$\n",
    "\\epsilon = \\frac{1}{\\sqrt{10^{R_L/10} - 1}} \\cdot \\left|\\frac{P(s)}{F(s)}\\right| \n",
    "$$\n",
    "\n",
    "En el caso de nuestro pasabanda, partimos de un *prototipo pasabajo* donde aseguraremos $R_L \\leq$ 20 dB en la banda de paso. Para ello sabemos que $P(s)=1$ para el caso de un pasabajo *Butterworth*. Del mismo modo $F(s)= s^2$ y para $s = j.1$ r/s tendremos $\\left|F(s)\\right| = 1$. Luego simplemente resta calcular\n",
    "\n",
    "$$\n",
    "\\epsilon = \\frac{1}{\\sqrt{10^{R_L/10} - 1}}\n",
    "$$\n",
    "\n",
    "para $R_L = 20$ db en el límite de la banda de paso."
   ]
  },
  {
   "cell_type": "code",
   "execution_count": 5,
   "metadata": {},
   "outputs": [
    {
     "data": {
      "image/png": "[encoded data removed]",
      "text/plain": [
       "<Figure size 800x500 with 1 Axes>"
      ]
     },
     "metadata": {},
     "output_type": "display_data"
    }
   ],
   "source": [
    "RL = 20 # dB\n",
    "eps_sq = sp.Rational(1)/sp.Rational(10**(RL/10)-1)\n",
    "\n",
    "S21sq_proto = 1/(1+ sp.Rational(eps_sq) * (s/sp.I)**4)\n",
    "\n",
    "S11sq_proto = sp.simplify(sp.expand(1 - S21sq_proto))\n",
    "\n",
    "plt_Sparams(S21sq_proto, S11sq_proto, bDb = True)\n",
    "\n",
    "plt.title('Prototipo pasabajo')\n",
    "plt.ylim([-40, 3])\n",
    "plt.show()\n"
   ]
  },
  {
   "cell_type": "markdown",
   "metadata": {},
   "source": [
    "Se verifica entonces que el prototipo pasabajo cumple con el requerimiento de $R_L$. Luego se procede a calcular el filtro pasabanda"
   ]
  },
  {
   "cell_type": "code",
   "execution_count": 6,
   "metadata": {},
   "outputs": [
    {
     "data": {
      "image/png": "[encoded data removed]",
      "text/plain": [
       "<Figure size 800x500 with 1 Axes>"
      ]
     },
     "metadata": {},
     "output_type": "display_data"
    }
   ],
   "source": [
    "S21sq = sp.simplify(sp.expand(S21sq_proto.subs(s, Kbp)))\n",
    "\n",
    "S11sq = sp.simplify(sp.expand(1 - S21sq))\n",
    "\n",
    "plt_Sparams(S21sq, S11sq, bDb = True)\n",
    "\n",
    "plt.ylim([-40, 3])\n",
    "plt.xlim([.6, 2])\n",
    "plt.show()\n"
   ]
  },
  {
   "cell_type": "markdown",
   "metadata": {},
   "source": [
    "En este caso verificamos que el pasabanda también cumple el requerimiento de $R_L$ en el ancho de banda especificado por $Q=5$, es decir $B = \\omega_0/Q = 1/5$.\n",
    "\n",
    "Ahora procedemos a calcular $S_{21}$ y $S_{11}$."
   ]
  },
  {
   "cell_type": "code",
   "execution_count": 17,
   "metadata": {},
   "outputs": [
    {
     "data": {
      "text/latex": [
       "$\\displaystyle S_{11}=\\frac{1.0 s^{4} + 2.0 s^{2} + 1.0}{1.0 s^{4} + 0.8922 s^{3} + 2.398 s^{2} + 0.8922 s + 1.0}$"
      ],
      "text/plain": [
       "<IPython.core.display.Math object>"
      ]
     },
     "metadata": {},
     "output_type": "display_data"
    },
    {
     "data": {
      "text/latex": [
       "$\\displaystyle S_{21}=\\frac{0.398 s^{2}}{1.0 s^{4} + 0.8922 s^{3} + 2.398 s^{2} + 0.8922 s + 1.0}$"
      ],
      "text/plain": [
       "<IPython.core.display.Math object>"
      ]
     },
     "metadata": {},
     "output_type": "display_data"
    }
   ],
   "source": [
    "# A veces puede tener sentido forzar el signo para hallar la red\n",
    "# dual.\n",
    "S11_sign = 1\n",
    "# s11_sign = -1\n",
    "\n",
    "# Cuando se demora mucho en factorizar se puede probar bTryNumeric=True\n",
    "S21 = modsq2mod_s(S21sq, bTryNumeric=True)\n",
    "S11 = S11_sign * modsq2mod_s(S11sq, bTryNumeric=True)\n",
    "\n",
    "# Truquito, S21 y S11 comparten polos\n",
    "ks21, Ps, Es = simplify_n_monic(S21)\n",
    "ks11, Fs, _ = simplify_n_monic(S11)\n",
    "\n",
    "S11 = ks11 * Fs / Es\n",
    "S21 = ks21 * Ps / Es\n",
    "\n",
    "print_latex(a_equal_b_latex_s('S_{11}', S11.evalf(4)))\n",
    "print_latex(a_equal_b_latex_s('S_{21}', S21.evalf(4)))\n"
   ]
  },
  {
   "cell_type": "markdown",
   "metadata": {},
   "source": [
    "Calculamos entonces $Z_1$ a partir de $S_{11}$"
   ]
  },
  {
   "cell_type": "code",
   "execution_count": 18,
   "metadata": {},
   "outputs": [
    {
     "data": {
      "text/latex": [
       "$\\displaystyle Z_1=\\frac{2.0 s^{4} + 0.8922 s^{3} + 4.398 s^{2} + 0.8922 s + 2.0}{s \\left(0.8922 s^{2} + 0.398 s + 0.8922\\right)}$"
      ],
      "text/plain": [
       "<IPython.core.display.Math object>"
      ]
     },
     "metadata": {},
     "output_type": "display_data"
    },
    {
     "data": {
      "text/markdown": [
       "#### Corroboramos $Z_1$ en el centro de la banda de paso"
      ],
      "text/plain": [
       "<IPython.core.display.Markdown object>"
      ]
     },
     "metadata": {},
     "output_type": "display_data"
    },
    {
     "data": {
      "text/latex": [
       "$\\displaystyle Z_1(\\omega = 1)=1.0$"
      ],
      "text/plain": [
       "<IPython.core.display.Math object>"
      ]
     },
     "metadata": {},
     "output_type": "display_data"
    }
   ],
   "source": [
    "\n",
    "Z1 = sp.simplify(sp.expand(Es + Fs) / sp.expand(Es - Fs))\n",
    "\n",
    "print_latex(a_equal_b_latex_s('Z_1', Z1.evalf(4)))\n",
    "print_subtitle('Corroboramos $Z_1$ en el centro de la banda de paso')\n",
    "print_latex(a_equal_b_latex_s('Z_1(\\omega = 1)', sp.simplify(sp.expand(sp.Abs(Z1.subs(s, sp.I*1)))).evalf(4) ))\n"
   ]
  },
  {
   "cell_type": "markdown",
   "metadata": {},
   "source": [
    "Ahora se procede con la síntesis de $Z_1$ siguiendo los ceros de la transferencia. En este caso tendremos dos ceros en cada extremo de banda."
   ]
  },
  {
   "cell_type": "code",
   "execution_count": 10,
   "metadata": {},
   "outputs": [
    {
     "data": {
      "text/markdown": [
       "#### 1º Remoción en $\\infty$"
      ],
      "text/plain": [
       "<IPython.core.display.Markdown object>"
      ]
     },
     "metadata": {},
     "output_type": "display_data"
    },
    {
     "data": {
      "text/latex": [
       "$\\displaystyle L_1=2.242$"
      ],
      "text/plain": [
       "<IPython.core.display.Math object>"
      ]
     },
     "metadata": {},
     "output_type": "display_data"
    },
    {
     "data": {
      "text/latex": [
       "$\\displaystyle Z_2=\\frac{2.688 \\left(4.674 \\cdot 10^{-16} s^{4} + 1.169 \\cdot 10^{-16} s^{3} + 1.0 s^{2} + 0.3721 s + 0.834\\right)}{s \\left(1.0 s^{2} + 0.4461 s + 1.0\\right)}$"
      ],
      "text/plain": [
       "<IPython.core.display.Math object>"
      ]
     },
     "metadata": {},
     "output_type": "display_data"
    },
    {
     "data": {
      "text/markdown": [
       "#### Se descartarán los coeficientes poco significativos"
      ],
      "text/plain": [
       "<IPython.core.display.Markdown object>"
      ]
     },
     "metadata": {},
     "output_type": "display_data"
    },
    {
     "data": {
      "text/latex": [
       "$\\displaystyle Z_2=\\frac{2.688 s^{2} + 1.0 s + 2.242}{1.0 s^{3} + 0.4461 s^{2} + 1.0 s}$"
      ],
      "text/plain": [
       "<IPython.core.display.Math object>"
      ]
     },
     "metadata": {},
     "output_type": "display_data"
    }
   ],
   "source": [
    "print_subtitle('1º Remoción en $\\infty$')\n",
    "\n",
    "Z2, ZL1 = remover_polo_infinito(Z1)\n",
    "\n",
    "# ZL1 es la impedancia removida\n",
    "# extraigo L1\n",
    "L1 = ZL1/s\n",
    "\n",
    "print_latex(a_equal_b_latex_s('L_1', L1.evalf(4)))\n",
    "print_latex(a_equal_b_latex_s('Z_2', Z2.evalf(4)))\n",
    "\n",
    "print_subtitle('Se descartarán los coeficientes poco significativos')\n",
    "\n",
    "Z2 = trim_func_s(Z2)\n",
    "print_latex(a_equal_b_latex_s('Z_2', Z2.evalf(4)))\n",
    "\n"
   ]
  },
  {
   "cell_type": "markdown",
   "metadata": {},
   "source": [
    "Como puede apreciarse, las funciones de remoción fallan al aproximar el valor de los residuos y en consecuencia la remoción total nunca sucede. Para ello hace falta un poco de práctica y conocimiento del método de síntesis para proceder a la cancelación de aquellos términos residuales."
   ]
  },
  {
   "cell_type": "code",
   "execution_count": 11,
   "metadata": {
    "scrolled": true
   },
   "outputs": [
    {
     "data": {
      "text/markdown": [
       "#### 2º Remoción en $0$"
      ],
      "text/plain": [
       "<IPython.core.display.Markdown object>"
      ]
     },
     "metadata": {},
     "output_type": "display_data"
    },
    {
     "data": {
      "text/latex": [
       "$\\displaystyle C_1=0.4461$"
      ],
      "text/plain": [
       "<IPython.core.display.Math object>"
      ]
     },
     "metadata": {},
     "output_type": "display_data"
    },
    {
     "data": {
      "text/latex": [
       "$\\displaystyle Z_4=\\frac{0.4461 \\left(1.0 s^{2} - 1.751 \\cdot 10^{-15} s - 2.102 \\cdot 10^{-15}\\right)}{s \\left(1.0 s^{2} + 0.4461 s + 1.0\\right)}$"
      ],
      "text/plain": [
       "<IPython.core.display.Math object>"
      ]
     },
     "metadata": {},
     "output_type": "display_data"
    },
    {
     "data": {
      "text/markdown": [
       "#### Poda de coeficientes y ..."
      ],
      "text/plain": [
       "<IPython.core.display.Markdown object>"
      ]
     },
     "metadata": {},
     "output_type": "display_data"
    },
    {
     "data": {
      "text/latex": [
       "$\\displaystyle Z_4=\\frac{0.4461 s^{2}}{1.0 s^{3} + 0.4461 s^{2} + 1.0 s}$"
      ],
      "text/plain": [
       "<IPython.core.display.Math object>"
      ]
     },
     "metadata": {},
     "output_type": "display_data"
    }
   ],
   "source": [
    "print_subtitle('2º Remoción en $0$')\n",
    "\n",
    "Z4, ZC1 = remover_polo_dc(Z2)\n",
    "\n",
    "# ZC1 es la impedancia removida\n",
    "# extraigo C1\n",
    "C1 = 1/ZC1/s\n",
    "\n",
    "print_latex(a_equal_b_latex_s('C_1', C1.evalf(4)))\n",
    "print_latex(a_equal_b_latex_s('Z_4', Z4.evalf(4)))\n",
    "\n",
    "print_subtitle('Poda de coeficientes y ...')\n",
    "\n",
    "Z4 = trim_func_s(Z4)\n",
    "print_latex(a_equal_b_latex_s('Z_4', Z4.evalf(4)))\n"
   ]
  },
  {
   "cell_type": "markdown",
   "metadata": {},
   "source": [
    "luego de haber removido en ambos extremos de impedancia, procedemos a remover en admitancia para finalizar la síntesis."
   ]
  },
  {
   "cell_type": "code",
   "execution_count": 19,
   "metadata": {},
   "outputs": [
    {
     "data": {
      "text/markdown": [
       "#### 3º Remoción en $\\infty$"
      ],
      "text/plain": [
       "<IPython.core.display.Markdown object>"
      ]
     },
     "metadata": {},
     "output_type": "display_data"
    },
    {
     "data": {
      "text/latex": [
       "$\\displaystyle C_2=2.242$"
      ],
      "text/plain": [
       "<IPython.core.display.Math object>"
      ]
     },
     "metadata": {},
     "output_type": "display_data"
    },
    {
     "data": {
      "text/latex": [
       "$\\displaystyle Y_6=\\frac{1.0 s + 2.242}{s}$"
      ],
      "text/plain": [
       "<IPython.core.display.Math object>"
      ]
     },
     "metadata": {},
     "output_type": "display_data"
    }
   ],
   "source": [
    "print_subtitle('3º Remoción en $\\infty$')\n",
    "\n",
    "Y6, YC2 = remover_polo_infinito(1/Z4)\n",
    "\n",
    "# ZL1 es la admitancia removida\n",
    "# extraigo C2\n",
    "C2 = YC2/s\n",
    "\n",
    "Y6 = trim_func_s(Y6)\n",
    "\n",
    "print_latex(a_equal_b_latex_s('C_2', C2.evalf(4)))\n",
    "print_latex(a_equal_b_latex_s('Y_6', Y6.evalf(4)))\n",
    "\n"
   ]
  },
  {
   "cell_type": "markdown",
   "metadata": {},
   "source": [
    "en el otro extremo removeremos el último componente"
   ]
  },
  {
   "cell_type": "code",
   "execution_count": 21,
   "metadata": {},
   "outputs": [
    {
     "data": {
      "text/markdown": [
       "#### 4º Remoción en $0$"
      ],
      "text/plain": [
       "<IPython.core.display.Markdown object>"
      ]
     },
     "metadata": {},
     "output_type": "display_data"
    },
    {
     "data": {
      "text/latex": [
       "$\\displaystyle L_2=0.4461$"
      ],
      "text/plain": [
       "<IPython.core.display.Math object>"
      ]
     },
     "metadata": {},
     "output_type": "display_data"
    },
    {
     "data": {
      "text/latex": [
       "$\\displaystyle Y_8=1.0$"
      ],
      "text/plain": [
       "<IPython.core.display.Math object>"
      ]
     },
     "metadata": {},
     "output_type": "display_data"
    }
   ],
   "source": [
    "print_subtitle('4º Remoción en $0$')\n",
    "\n",
    "Y8, YL2 = remover_polo_dc(Y6)\n",
    "\n",
    "# YL2 es la admitancia removida\n",
    "# extraigo L2\n",
    "L2 = 1/YL2/s\n",
    "\n",
    "Y8 = trim_func_s(Y8)\n",
    "\n",
    "print_latex(a_equal_b_latex_s('L_2', L2.evalf(4)))\n",
    "print_latex(a_equal_b_latex_s('Y_8', Y8.evalf(4)))\n"
   ]
  },
  {
   "cell_type": "markdown",
   "metadata": {},
   "source": [
    "Y finalmente el remanente $Y_8$ es la resistencia de carga en el puerto de salida del filtro. Con esto finalizamos la síntesis y procedemos a visualizar la red resultante"
   ]
  },
  {
   "cell_type": "code",
   "execution_count": 16,
   "metadata": {},
   "outputs": [
    {
     "data": {
      "image/svg+xml": [
       "<?xml version=\"1.0\" encoding=\"utf-8\" standalone=\"no\"?>\n",
       "<!DOCTYPE svg PUBLIC \"-//W3C//DTD SVG 1.1//EN\"\n",
       "  \"http://www.w3.org/Graphics/SVG/1.1/DTD/svg11.dtd\">\n",
       "<svg xmlns:xlink=\"http://www.w3.org/1999/xlink\" width=\"1047.036pt\" height=\"286.76pt\" viewBox=\"0 0 1047.036 286.76\" xmlns=\"http://www.w3.org/2000/svg\" version=\"1.1\">\n",
       " <metadata>\n",
       "  <rdf:RDF xmlns:dc=\"http://purl.org/dc/elements/1.1/\" xmlns:cc=\"http://creativecommons.org/ns#\" xmlns:rdf=\"http://www.w3.org/1999/02/22-rdf-syntax-ns#\">\n",
       "   <cc:Work>\n",
       "    <dc:type rdf:resource=\"http://purl.org/dc/dcmitype/StillImage\"/>\n",
       "    <dc:date>2024-12-17T11:57:51.466572</dc:date>\n",
       "    <dc:format>image/svg+xml</dc:format>\n",
       "    <dc:creator>\n",
       "     <cc:Agent>\n",
       "      <dc:title>Matplotlib v3.7.5, https://matplotlib.org/</dc:title>\n",
       "     </cc:Agent>\n",
       "    </dc:creator>\n",
       "   </cc:Work>\n",
       "  </rdf:RDF>\n",
       " </metadata>\n",
       " <defs>\n",
       "  <style type=\"text/css\">*{stroke-linejoin: round; stroke-linecap: butt}</style>\n",
       " </defs>\n",
       " <g id=\"figure_1\">\n",
       "  <g id=\"patch_1\">\n",
       "   <path d=\"M 0 286.76 \n",
       "L 1047.036 286.76 \n",
       "L 1047.036 0 \n",
       "L 0 0 \n",
       "z\n",
       "\" style=\"fill: #ffffff\"/>\n",
       "  </g>\n",
       "  <g id=\"axes_1\">\n",
       "   <g id=\"patch_2\">\n",
       "    <path d=\"M 663.42 30.08 \n",
       "C 663.42 28.886984 662.945571 27.74161 662.101981 26.898019 \n",
       "C 661.25839 26.054429 660.113016 25.58 658.92 25.58 \n",
       "C 657.726984 25.58 656.58161 26.054429 655.738019 26.898019 \n",
       "C 654.894429 27.74161 654.42 28.886984 654.42 30.08 \n",
       "\" clip-path=\"url(#p72be06830d)\" style=\"fill: none; stroke: #000000; stroke-width: 2; stroke-linejoin: miter\"/>\n",
       "   </g>\n",
       "   <g id=\"patch_3\">\n",
       "    <path d=\"M 672.42 30.08 \n",
       "C 672.42 28.886984 671.945571 27.74161 671.101981 26.898019 \n",
       "C 670.25839 26.054429 669.113016 25.58 667.92 25.58 \n",
       "C 666.726984 25.58 665.58161 26.054429 664.738019 26.898019 \n",
       "C 663.894429 27.74161 663.42 28.886984 663.42 30.08 \n",
       "\" clip-path=\"url(#p72be06830d)\" style=\"fill: none; stroke: #000000; stroke-width: 2; stroke-linejoin: miter\"/>\n",
       "   </g>\n",
       "   <g id=\"patch_4\">\n",
       "    <path d=\"M 681.42 30.08 \n",
       "C 681.42 28.886984 680.945571 27.74161 680.101981 26.898019 \n",
       "C 679.25839 26.054429 678.113016 25.58 676.92 25.58 \n",
       "C 675.726984 25.58 674.58161 26.054429 673.738019 26.898019 \n",
       "C 672.894429 27.74161 672.42 28.886984 672.42 30.08 \n",
       "\" clip-path=\"url(#p72be06830d)\" style=\"fill: none; stroke: #000000; stroke-width: 2; stroke-linejoin: miter\"/>\n",
       "   </g>\n",
       "   <g id=\"patch_5\">\n",
       "    <path d=\"M 690.42 30.08 \n",
       "C 690.42 28.886984 689.945571 27.74161 689.101981 26.898019 \n",
       "C 688.25839 26.054429 687.113016 25.58 685.92 25.58 \n",
       "C 684.726984 25.58 683.58161 26.054429 682.738019 26.898019 \n",
       "C 681.894429 27.74161 681.42 28.886984 681.42 30.08 \n",
       "\" clip-path=\"url(#p72be06830d)\" style=\"fill: none; stroke: #000000; stroke-width: 2; stroke-linejoin: miter\"/>\n",
       "   </g>\n",
       "   <g id=\"patch_6\">\n",
       "    <path d=\"M 888.42 111.08 \n",
       "C 887.226984 111.08 886.08161 111.554429 885.238019 112.398019 \n",
       "C 884.394429 113.24161 883.92 114.386984 883.92 115.58 \n",
       "C 883.92 116.773016 884.394429 117.91839 885.238019 118.761981 \n",
       "C 886.08161 119.605571 887.226984 120.08 888.42 120.08 \n",
       "\" clip-path=\"url(#p72be06830d)\" style=\"fill: none; stroke: #000000; stroke-width: 2; stroke-linejoin: miter\"/>\n",
       "   </g>\n",
       "   <g id=\"patch_7\">\n",
       "    <path d=\"M 888.42 102.08 \n",
       "C 887.226984 102.08 886.08161 102.554429 885.238019 103.398019 \n",
       "C 884.394429 104.24161 883.92 105.386984 883.92 106.58 \n",
       "C 883.92 107.773016 884.394429 108.91839 885.238019 109.761981 \n",
       "C 886.08161 110.605571 887.226984 111.08 888.42 111.08 \n",
       "\" clip-path=\"url(#p72be06830d)\" style=\"fill: none; stroke: #000000; stroke-width: 2; stroke-linejoin: miter\"/>\n",
       "   </g>\n",
       "   <g id=\"patch_8\">\n",
       "    <path d=\"M 888.42 93.08 \n",
       "C 887.226984 93.08 886.08161 93.554429 885.238019 94.398019 \n",
       "C 884.394429 95.24161 883.92 96.386984 883.92 97.58 \n",
       "C 883.92 98.773016 884.394429 99.91839 885.238019 100.761981 \n",
       "C 886.08161 101.605571 887.226984 102.08 888.42 102.08 \n",
       "\" clip-path=\"url(#p72be06830d)\" style=\"fill: none; stroke: #000000; stroke-width: 2; stroke-linejoin: miter\"/>\n",
       "   </g>\n",
       "   <g id=\"patch_9\">\n",
       "    <path d=\"M 888.42 84.08 \n",
       "C 887.226984 84.08 886.08161 84.554429 885.238019 85.398019 \n",
       "C 884.394429 86.24161 883.92 87.386984 883.92 88.58 \n",
       "C 883.92 89.773016 884.394429 90.91839 885.238019 91.761981 \n",
       "C 886.08161 92.605571 887.226984 93.08 888.42 93.08 \n",
       "\" clip-path=\"url(#p72be06830d)\" style=\"fill: none; stroke: #000000; stroke-width: 2; stroke-linejoin: miter\"/>\n",
       "   </g>\n",
       "   <g id=\"line2d_1\">\n",
       "    <path d=\"M 312.42 174.08 \n",
       "L 348.42 174.08 \n",
       "L 384.42 174.08 \n",
       "\" clip-path=\"url(#p72be06830d)\" style=\"fill: none; stroke: #000000; stroke-width: 2; stroke-linecap: round\"/>\n",
       "   </g>\n",
       "   <g id=\"line2d_2\">\n",
       "    <path d=\"M 384.42 30.08 \n",
       "L 366.42 30.08 \n",
       "L 348.42 30.08 \n",
       "\" clip-path=\"url(#p72be06830d)\" style=\"fill: none; stroke: #000000; stroke-width: 2; stroke-linecap: round\"/>\n",
       "   </g>\n",
       "   <g id=\"line2d_3\">\n",
       "    <path d=\"M 339.42 30.08 \n",
       "L 330.42 30.08 \n",
       "L 312.42 30.08 \n",
       "\" clip-path=\"url(#p72be06830d)\" style=\"fill: none; stroke: #000000; stroke-width: 2; stroke-linecap: round\"/>\n",
       "   </g>\n",
       "   <g id=\"patch_10\">\n",
       "    <path d=\"M 339.42 27.38 \n",
       "L 348.42 30.08 \n",
       "L 339.42 32.78 \n",
       "z\n",
       "\" clip-path=\"url(#p72be06830d)\"/>\n",
       "   </g>\n",
       "   <g id=\"line2d_4\">\n",
       "    <path d=\"M 384.42 30.08 \n",
       "L 438.42 30.08 \n",
       "L 492.42 30.08 \n",
       "\" clip-path=\"url(#p72be06830d)\" style=\"fill: none; stroke: #000000; stroke-width: 2; stroke-linecap: round\"/>\n",
       "   </g>\n",
       "   <g id=\"line2d_5\">\n",
       "    <path d=\"M 492.42 179.48 \n",
       "L 492.42 125.48 \n",
       "L 492.42 71.48 \n",
       "\" clip-path=\"url(#p72be06830d)\" style=\"fill: none; stroke: #000000; stroke-linecap: round\"/>\n",
       "   </g>\n",
       "   <g id=\"line2d_6\">\n",
       "    <path d=\"M 492.42 71.48 \n",
       "L 519.42 71.48 \n",
       "L 537.42 71.48 \n",
       "\" clip-path=\"url(#p72be06830d)\" style=\"fill: none; stroke: #000000; stroke-linecap: round\"/>\n",
       "   </g>\n",
       "   <g id=\"patch_11\">\n",
       "    <path d=\"M 537.42 68.78 \n",
       "L 546.42 71.48 \n",
       "L 537.42 74.18 \n",
       "z\n",
       "\" clip-path=\"url(#p72be06830d)\"/>\n",
       "   </g>\n",
       "   <g id=\"line2d_7\">\n",
       "    <path d=\"M 492.42 174.08 \n",
       "L 438.42 174.08 \n",
       "L 384.42 174.08 \n",
       "\" clip-path=\"url(#p72be06830d)\" style=\"fill: none; stroke: #000000; stroke-width: 2; stroke-linecap: round\"/>\n",
       "   </g>\n",
       "   <g id=\"line2d_8\">\n",
       "    <path d=\"M 492.42 174.08 \n",
       "L 546.42 174.08 \n",
       "L 600.42 174.08 \n",
       "\" clip-path=\"url(#p72be06830d)\" style=\"fill: none; stroke: #000000; stroke-width: 2; stroke-linecap: round\"/>\n",
       "   </g>\n",
       "   <g id=\"line2d_9\">\n",
       "    <path d=\"M 492.42 30.08 \n",
       "L 546.42 30.08 \n",
       "L 600.42 30.08 \n",
       "\" clip-path=\"url(#p72be06830d)\" style=\"fill: none; stroke: #000000; stroke-width: 2; stroke-linecap: round\"/>\n",
       "   </g>\n",
       "   <g id=\"line2d_10\">\n",
       "    <path d=\"M 600.42 30.08 \n",
       "L 654.42 30.08 \n",
       "M 690.42 30.08 \n",
       "L 744.42 30.08 \n",
       "\" clip-path=\"url(#p72be06830d)\" style=\"fill: none; stroke: #000000; stroke-width: 2; stroke-linecap: round\"/>\n",
       "   </g>\n",
       "   <g id=\"line2d_11\">\n",
       "    <path d=\"M 744.42 174.08 \n",
       "L 672.42 174.08 \n",
       "L 600.42 174.08 \n",
       "\" clip-path=\"url(#p72be06830d)\" style=\"fill: none; stroke: #000000; stroke-width: 2; stroke-linecap: round\"/>\n",
       "   </g>\n",
       "   <g id=\"line2d_12\">\n",
       "    <path d=\"M 744.42 30.08 \n",
       "L 813.18 30.08 \n",
       "M 813.18 21.08 \n",
       "L 813.18 39.08 \n",
       "M 819.66 21.08 \n",
       "L 819.66 39.08 \n",
       "M 819.66 30.08 \n",
       "L 888.42 30.08 \n",
       "\" clip-path=\"url(#p72be06830d)\" style=\"fill: none; stroke: #000000; stroke-width: 2; stroke-linecap: round\"/>\n",
       "   </g>\n",
       "   <g id=\"line2d_13\">\n",
       "    <path d=\"M 888.42 174.08 \n",
       "L 816.42 174.08 \n",
       "L 744.42 174.08 \n",
       "\" clip-path=\"url(#p72be06830d)\" style=\"fill: none; stroke: #000000; stroke-width: 2; stroke-linecap: round\"/>\n",
       "   </g>\n",
       "   <g id=\"line2d_14\">\n",
       "    <path d=\"M 888.42 174.08 \n",
       "L 888.42 120.08 \n",
       "M 888.42 84.08 \n",
       "L 888.42 30.08 \n",
       "\" clip-path=\"url(#p72be06830d)\" style=\"fill: none; stroke: #000000; stroke-width: 2; stroke-linecap: round\"/>\n",
       "   </g>\n",
       "   <g id=\"line2d_15\">\n",
       "    <path d=\"M 888.42 30.08 \n",
       "L 924.42 30.08 \n",
       "L 960.42 30.08 \n",
       "\" clip-path=\"url(#p72be06830d)\" style=\"fill: none; stroke: #000000; stroke-width: 2; stroke-linecap: round\"/>\n",
       "   </g>\n",
       "   <g id=\"line2d_16\">\n",
       "    <path d=\"M 960.42 174.08 \n",
       "L 924.42 174.08 \n",
       "L 888.42 174.08 \n",
       "\" clip-path=\"url(#p72be06830d)\" style=\"fill: none; stroke: #000000; stroke-width: 2; stroke-linecap: round\"/>\n",
       "   </g>\n",
       "   <g id=\"line2d_17\">\n",
       "    <path d=\"M 960.42 174.08 \n",
       "L 960.42 105.32 \n",
       "M 951.42 105.32 \n",
       "L 969.42 105.32 \n",
       "M 951.42 98.84 \n",
       "L 969.42 98.84 \n",
       "M 960.42 98.84 \n",
       "L 960.42 30.08 \n",
       "\" clip-path=\"url(#p72be06830d)\" style=\"fill: none; stroke: #000000; stroke-width: 2; stroke-linecap: round\"/>\n",
       "   </g>\n",
       "   <g id=\"line2d_18\">\n",
       "    <path d=\"M 960.42 30.08 \n",
       "L 978.42 30.08 \n",
       "L 996.42 30.08 \n",
       "\" clip-path=\"url(#p72be06830d)\" style=\"fill: none; stroke: #000000; stroke-width: 2; stroke-linecap: round\"/>\n",
       "   </g>\n",
       "   <g id=\"line2d_19\">\n",
       "    <path d=\"M 1005.42 30.08 \n",
       "L 1014.42 30.08 \n",
       "L 1032.42 30.08 \n",
       "\" clip-path=\"url(#p72be06830d)\" style=\"fill: none; stroke: #000000; stroke-width: 2; stroke-linecap: round\"/>\n",
       "   </g>\n",
       "   <g id=\"patch_12\">\n",
       "    <path d=\"M 1005.42 32.78 \n",
       "L 996.42 30.08 \n",
       "L 1005.42 27.38 \n",
       "z\n",
       "\" clip-path=\"url(#p72be06830d)\"/>\n",
       "   </g>\n",
       "   <g id=\"line2d_20\">\n",
       "    <path d=\"M 1032.42 174.08 \n",
       "L 996.42 174.08 \n",
       "L 960.42 174.08 \n",
       "\" clip-path=\"url(#p72be06830d)\" style=\"fill: none; stroke: #000000; stroke-width: 2; stroke-linecap: round\"/>\n",
       "   </g>\n",
       "   <g id=\"text_1\">\n",
       "    <!-- + -->\n",
       "    <g transform=\"translate(305.71625 70.495) scale(0.16 -0.16)\">\n",
       "     <defs>\n",
       "      <path id=\"DejaVuSans-2b\" d=\"M 2944 4013 \n",
       "L 2944 2272 \n",
       "L 4684 2272 \n",
       "L 4684 1741 \n",
       "L 2944 1741 \n",
       "L 2944 0 \n",
       "L 2419 0 \n",
       "L 2419 1741 \n",
       "L 678 1741 \n",
       "L 678 2272 \n",
       "L 2419 2272 \n",
       "L 2419 4013 \n",
       "L 2944 4013 \n",
       "z\n",
       "\" transform=\"scale(0.015625)\"/>\n",
       "     </defs>\n",
       "     <use xlink:href=\"#DejaVuSans-2b\"/>\n",
       "    </g>\n",
       "   </g>\n",
       "   <g id=\"text_2\">\n",
       "    <!-- $V1$ -->\n",
       "    <g transform=\"translate(301.78 106.495) scale(0.16 -0.16)\">\n",
       "     <defs>\n",
       "      <path id=\"DejaVuSans-Oblique-56\" d=\"M 1319 0 \n",
       "L 500 4666 \n",
       "L 1119 4666 \n",
       "L 1797 653 \n",
       "L 4063 4666 \n",
       "L 4750 4666 \n",
       "L 2053 0 \n",
       "L 1319 0 \n",
       "z\n",
       "\" transform=\"scale(0.015625)\"/>\n",
       "      <path id=\"DejaVuSans-31\" d=\"M 794 531 \n",
       "L 1825 531 \n",
       "L 1825 4091 \n",
       "L 703 3866 \n",
       "L 703 4441 \n",
       "L 1819 4666 \n",
       "L 2450 4666 \n",
       "L 2450 531 \n",
       "L 3481 531 \n",
       "L 3481 0 \n",
       "L 794 0 \n",
       "L 794 531 \n",
       "z\n",
       "\" transform=\"scale(0.015625)\"/>\n",
       "     </defs>\n",
       "     <use xlink:href=\"#DejaVuSans-Oblique-56\" transform=\"translate(0 0.09375)\"/>\n",
       "     <use xlink:href=\"#DejaVuSans-31\" transform=\"translate(68.408203 0.09375)\"/>\n",
       "    </g>\n",
       "   </g>\n",
       "   <g id=\"text_3\">\n",
       "    <!-- - -->\n",
       "    <g transform=\"translate(309.53375 142.495) scale(0.16 -0.16)\">\n",
       "     <defs>\n",
       "      <path id=\"DejaVuSans-2d\" d=\"M 313 2009 \n",
       "L 1997 2009 \n",
       "L 1997 1497 \n",
       "L 313 1497 \n",
       "L 313 2009 \n",
       "z\n",
       "\" transform=\"scale(0.015625)\"/>\n",
       "     </defs>\n",
       "     <use xlink:href=\"#DejaVuSans-2d\"/>\n",
       "    </g>\n",
       "   </g>\n",
       "   <g id=\"text_4\">\n",
       "    <!-- $I1$ -->\n",
       "    <g transform=\"translate(322.9 17.7525) scale(0.16 -0.16)\">\n",
       "     <defs>\n",
       "      <path id=\"DejaVuSans-Oblique-49\" d=\"M 1081 4666 \n",
       "L 1716 4666 \n",
       "L 806 0 \n",
       "L 172 0 \n",
       "L 1081 4666 \n",
       "z\n",
       "\" transform=\"scale(0.015625)\"/>\n",
       "     </defs>\n",
       "     <use xlink:href=\"#DejaVuSans-Oblique-49\" transform=\"translate(0 0.09375)\"/>\n",
       "     <use xlink:href=\"#DejaVuSans-31\" transform=\"translate(29.492188 0.09375)\"/>\n",
       "    </g>\n",
       "   </g>\n",
       "   <g id=\"text_5\">\n",
       "    <!-- $ Z_1 = \\frac{2.0 s^{4} + 0.8922 s^{3} + 4.398 s^{2} + 0.8922 s + 2.0}{s \\left(0.8922 s^{2} + 0.398 s + 0.8922\\right)} $ -->\n",
       "    <g transform=\"translate(299.15 206.36) scale(0.22 -0.22)\">\n",
       "     <defs>\n",
       "      <path id=\"DejaVuSans-Oblique-5a\" d=\"M 838 4666 \n",
       "L 4500 4666 \n",
       "L 4409 4184 \n",
       "L 794 531 \n",
       "L 3769 531 \n",
       "L 3669 0 \n",
       "L -141 0 \n",
       "L -50 481 \n",
       "L 3566 4134 \n",
       "L 738 4134 \n",
       "L 838 4666 \n",
       "z\n",
       "\" transform=\"scale(0.015625)\"/>\n",
       "      <path id=\"DejaVuSans-3d\" d=\"M 678 2906 \n",
       "L 4684 2906 \n",
       "L 4684 2381 \n",
       "L 678 2381 \n",
       "L 678 2906 \n",
       "z\n",
       "M 678 1631 \n",
       "L 4684 1631 \n",
       "L 4684 1100 \n",
       "L 678 1100 \n",
       "L 678 1631 \n",
       "z\n",
       "\" transform=\"scale(0.015625)\"/>\n",
       "      <path id=\"DejaVuSans-32\" d=\"M 1228 531 \n",
       "L 3431 531 \n",
       "L 3431 0 \n",
       "L 469 0 \n",
       "L 469 531 \n",
       "Q 828 903 1448 1529 \n",
       "Q 2069 2156 2228 2338 \n",
       "Q 2531 2678 2651 2914 \n",
       "Q 2772 3150 2772 3378 \n",
       "Q 2772 3750 2511 3984 \n",
       "Q 2250 4219 1831 4219 \n",
       "Q 1534 4219 1204 4116 \n",
       "Q 875 4013 500 3803 \n",
       "L 500 4441 \n",
       "Q 881 4594 1212 4672 \n",
       "Q 1544 4750 1819 4750 \n",
       "Q 2544 4750 2975 4387 \n",
       "Q 3406 4025 3406 3419 \n",
       "Q 3406 3131 3298 2873 \n",
       "Q 3191 2616 2906 2266 \n",
       "Q 2828 2175 2409 1742 \n",
       "Q 1991 1309 1228 531 \n",
       "z\n",
       "\" transform=\"scale(0.015625)\"/>\n",
       "      <path id=\"DejaVuSans-2e\" d=\"M 684 794 \n",
       "L 1344 794 \n",
       "L 1344 0 \n",
       "L 684 0 \n",
       "L 684 794 \n",
       "z\n",
       "\" transform=\"scale(0.015625)\"/>\n",
       "      <path id=\"DejaVuSans-30\" d=\"M 2034 4250 \n",
       "Q 1547 4250 1301 3770 \n",
       "Q 1056 3291 1056 2328 \n",
       "Q 1056 1369 1301 889 \n",
       "Q 1547 409 2034 409 \n",
       "Q 2525 409 2770 889 \n",
       "Q 3016 1369 3016 2328 \n",
       "Q 3016 3291 2770 3770 \n",
       "Q 2525 4250 2034 4250 \n",
       "z\n",
       "M 2034 4750 \n",
       "Q 2819 4750 3233 4129 \n",
       "Q 3647 3509 3647 2328 \n",
       "Q 3647 1150 3233 529 \n",
       "Q 2819 -91 2034 -91 \n",
       "Q 1250 -91 836 529 \n",
       "Q 422 1150 422 2328 \n",
       "Q 422 3509 836 4129 \n",
       "Q 1250 4750 2034 4750 \n",
       "z\n",
       "\" transform=\"scale(0.015625)\"/>\n",
       "      <path id=\"DejaVuSans-Oblique-73\" d=\"M 3200 3397 \n",
       "L 3091 2853 \n",
       "Q 2863 2978 2609 3040 \n",
       "Q 2356 3103 2088 3103 \n",
       "Q 1634 3103 1373 2948 \n",
       "Q 1113 2794 1113 2528 \n",
       "Q 1113 2219 1719 2053 \n",
       "Q 1766 2041 1788 2034 \n",
       "L 1972 1978 \n",
       "Q 2547 1819 2739 1644 \n",
       "Q 2931 1469 2931 1166 \n",
       "Q 2931 609 2489 259 \n",
       "Q 2047 -91 1331 -91 \n",
       "Q 1053 -91 747 -37 \n",
       "Q 441 16 72 128 \n",
       "L 184 722 \n",
       "Q 500 559 806 475 \n",
       "Q 1113 391 1394 391 \n",
       "Q 1816 391 2080 572 \n",
       "Q 2344 753 2344 1031 \n",
       "Q 2344 1331 1650 1516 \n",
       "L 1591 1531 \n",
       "L 1394 1581 \n",
       "Q 956 1697 753 1886 \n",
       "Q 550 2075 550 2369 \n",
       "Q 550 2928 970 3256 \n",
       "Q 1391 3584 2113 3584 \n",
       "Q 2397 3584 2667 3537 \n",
       "Q 2938 3491 3200 3397 \n",
       "z\n",
       "\" transform=\"scale(0.015625)\"/>\n",
       "      <path id=\"DejaVuSans-34\" d=\"M 2419 4116 \n",
       "L 825 1625 \n",
       "L 2419 1625 \n",
       "L 2419 4116 \n",
       "z\n",
       "M 2253 4666 \n",
       "L 3047 4666 \n",
       "L 3047 1625 \n",
       "L 3713 1625 \n",
       "L 3713 1100 \n",
       "L 3047 1100 \n",
       "L 3047 0 \n",
       "L 2419 0 \n",
       "L 2419 1100 \n",
       "L 313 1100 \n",
       "L 313 1709 \n",
       "L 2253 4666 \n",
       "z\n",
       "\" transform=\"scale(0.015625)\"/>\n",
       "      <path id=\"DejaVuSans-38\" d=\"M 2034 2216 \n",
       "Q 1584 2216 1326 1975 \n",
       "Q 1069 1734 1069 1313 \n",
       "Q 1069 891 1326 650 \n",
       "Q 1584 409 2034 409 \n",
       "Q 2484 409 2743 651 \n",
       "Q 3003 894 3003 1313 \n",
       "Q 3003 1734 2745 1975 \n",
       "Q 2488 2216 2034 2216 \n",
       "z\n",
       "M 1403 2484 \n",
       "Q 997 2584 770 2862 \n",
       "Q 544 3141 544 3541 \n",
       "Q 544 4100 942 4425 \n",
       "Q 1341 4750 2034 4750 \n",
       "Q 2731 4750 3128 4425 \n",
       "Q 3525 4100 3525 3541 \n",
       "Q 3525 3141 3298 2862 \n",
       "Q 3072 2584 2669 2484 \n",
       "Q 3125 2378 3379 2068 \n",
       "Q 3634 1759 3634 1313 \n",
       "Q 3634 634 3220 271 \n",
       "Q 2806 -91 2034 -91 \n",
       "Q 1263 -91 848 271 \n",
       "Q 434 634 434 1313 \n",
       "Q 434 1759 690 2068 \n",
       "Q 947 2378 1403 2484 \n",
       "z\n",
       "M 1172 3481 \n",
       "Q 1172 3119 1398 2916 \n",
       "Q 1625 2713 2034 2713 \n",
       "Q 2441 2713 2670 2916 \n",
       "Q 2900 3119 2900 3481 \n",
       "Q 2900 3844 2670 4047 \n",
       "Q 2441 4250 2034 4250 \n",
       "Q 1625 4250 1398 4047 \n",
       "Q 1172 3844 1172 3481 \n",
       "z\n",
       "\" transform=\"scale(0.015625)\"/>\n",
       "      <path id=\"DejaVuSans-39\" d=\"M 703 97 \n",
       "L 703 672 \n",
       "Q 941 559 1184 500 \n",
       "Q 1428 441 1663 441 \n",
       "Q 2288 441 2617 861 \n",
       "Q 2947 1281 2994 2138 \n",
       "Q 2813 1869 2534 1725 \n",
       "Q 2256 1581 1919 1581 \n",
       "Q 1219 1581 811 2004 \n",
       "Q 403 2428 403 3163 \n",
       "Q 403 3881 828 4315 \n",
       "Q 1253 4750 1959 4750 \n",
       "Q 2769 4750 3195 4129 \n",
       "Q 3622 3509 3622 2328 \n",
       "Q 3622 1225 3098 567 \n",
       "Q 2575 -91 1691 -91 \n",
       "Q 1453 -91 1209 -44 \n",
       "Q 966 3 703 97 \n",
       "z\n",
       "M 1959 2075 \n",
       "Q 2384 2075 2632 2365 \n",
       "Q 2881 2656 2881 3163 \n",
       "Q 2881 3666 2632 3958 \n",
       "Q 2384 4250 1959 4250 \n",
       "Q 1534 4250 1286 3958 \n",
       "Q 1038 3666 1038 3163 \n",
       "Q 1038 2656 1286 2365 \n",
       "Q 1534 2075 1959 2075 \n",
       "z\n",
       "\" transform=\"scale(0.015625)\"/>\n",
       "      <path id=\"DejaVuSans-33\" d=\"M 2597 2516 \n",
       "Q 3050 2419 3304 2112 \n",
       "Q 3559 1806 3559 1356 \n",
       "Q 3559 666 3084 287 \n",
       "Q 2609 -91 1734 -91 \n",
       "Q 1441 -91 1130 -33 \n",
       "Q 819 25 488 141 \n",
       "L 488 750 \n",
       "Q 750 597 1062 519 \n",
       "Q 1375 441 1716 441 \n",
       "Q 2309 441 2620 675 \n",
       "Q 2931 909 2931 1356 \n",
       "Q 2931 1769 2642 2001 \n",
       "Q 2353 2234 1838 2234 \n",
       "L 1294 2234 \n",
       "L 1294 2753 \n",
       "L 1863 2753 \n",
       "Q 2328 2753 2575 2939 \n",
       "Q 2822 3125 2822 3475 \n",
       "Q 2822 3834 2567 4026 \n",
       "Q 2313 4219 1838 4219 \n",
       "Q 1578 4219 1281 4162 \n",
       "Q 984 4106 628 3988 \n",
       "L 628 4550 \n",
       "Q 988 4650 1302 4700 \n",
       "Q 1616 4750 1894 4750 \n",
       "Q 2613 4750 3031 4423 \n",
       "Q 3450 4097 3450 3541 \n",
       "Q 3450 3153 3228 2886 \n",
       "Q 3006 2619 2597 2516 \n",
       "z\n",
       "\" transform=\"scale(0.015625)\"/>\n",
       "      <path id=\"DejaVuSans-28\" d=\"M 1984 4856 \n",
       "Q 1566 4138 1362 3434 \n",
       "Q 1159 2731 1159 2009 \n",
       "Q 1159 1288 1364 580 \n",
       "Q 1569 -128 1984 -844 \n",
       "L 1484 -844 \n",
       "Q 1016 -109 783 600 \n",
       "Q 550 1309 550 2009 \n",
       "Q 550 2706 781 3412 \n",
       "Q 1013 4119 1484 4856 \n",
       "L 1984 4856 \n",
       "z\n",
       "\" transform=\"scale(0.015625)\"/>\n",
       "      <path id=\"DejaVuSans-29\" d=\"M 513 4856 \n",
       "L 1013 4856 \n",
       "Q 1481 4119 1714 3412 \n",
       "Q 1947 2706 1947 2009 \n",
       "Q 1947 1309 1714 600 \n",
       "Q 1481 -109 1013 -844 \n",
       "L 513 -844 \n",
       "Q 928 -128 1133 580 \n",
       "Q 1338 1288 1338 2009 \n",
       "Q 1338 2731 1133 3434 \n",
       "Q 928 4138 513 4856 \n",
       "z\n",
       "\" transform=\"scale(0.015625)\"/>\n",
       "     </defs>\n",
       "     <use xlink:href=\"#DejaVuSans-Oblique-5a\" transform=\"translate(0 0.04375)\"/>\n",
       "     <use xlink:href=\"#DejaVuSans-31\" transform=\"translate(68.505859 -16.3625) scale(0.7)\"/>\n",
       "     <use xlink:href=\"#DejaVuSans-3d\" transform=\"translate(135.258789 0.04375)\"/>\n",
       "     <use xlink:href=\"#DejaVuSans-32\" transform=\"translate(238.530273 44.835938) scale(0.7)\"/>\n",
       "     <use xlink:href=\"#DejaVuSans-2e\" transform=\"translate(283.066406 44.835938) scale(0.7)\"/>\n",
       "     <use xlink:href=\"#DejaVuSans-30\" transform=\"translate(305.317383 44.835938) scale(0.7)\"/>\n",
       "     <use xlink:href=\"#DejaVuSans-Oblique-73\" transform=\"translate(349.853516 44.835938) scale(0.7)\"/>\n",
       "     <use xlink:href=\"#DejaVuSans-34\" transform=\"translate(389.578169 71.632812) scale(0.49)\"/>\n",
       "     <use xlink:href=\"#DejaVuSans-2b\" transform=\"translate(436.30522 44.835938) scale(0.7)\"/>\n",
       "     <use xlink:href=\"#DejaVuSans-30\" transform=\"translate(508.595259 44.835938) scale(0.7)\"/>\n",
       "     <use xlink:href=\"#DejaVuSans-2e\" transform=\"translate(553.131392 44.835938) scale(0.7)\"/>\n",
       "     <use xlink:href=\"#DejaVuSans-38\" transform=\"translate(573.544868 44.835938) scale(0.7)\"/>\n",
       "     <use xlink:href=\"#DejaVuSans-39\" transform=\"translate(618.081001 44.835938) scale(0.7)\"/>\n",
       "     <use xlink:href=\"#DejaVuSans-32\" transform=\"translate(661.392134 44.835938) scale(0.7)\"/>\n",
       "     <use xlink:href=\"#DejaVuSans-32\" transform=\"translate(705.928267 44.835938) scale(0.7)\"/>\n",
       "     <use xlink:href=\"#DejaVuSans-Oblique-73\" transform=\"translate(750.4644 44.835938) scale(0.7)\"/>\n",
       "     <use xlink:href=\"#DejaVuSans-33\" transform=\"translate(790.189053 71.632812) scale(0.49)\"/>\n",
       "     <use xlink:href=\"#DejaVuSans-2b\" transform=\"translate(836.916104 44.835938) scale(0.7)\"/>\n",
       "     <use xlink:href=\"#DejaVuSans-34\" transform=\"translate(909.206143 44.835938) scale(0.7)\"/>\n",
       "     <use xlink:href=\"#DejaVuSans-2e\" transform=\"translate(953.742276 44.835938) scale(0.7)\"/>\n",
       "     <use xlink:href=\"#DejaVuSans-33\" transform=\"translate(975.993253 44.835938) scale(0.7)\"/>\n",
       "     <use xlink:href=\"#DejaVuSans-39\" transform=\"translate(1020.529385 44.835938) scale(0.7)\"/>\n",
       "     <use xlink:href=\"#DejaVuSans-38\" transform=\"translate(1065.065518 44.835938) scale(0.7)\"/>\n",
       "     <use xlink:href=\"#DejaVuSans-Oblique-73\" transform=\"translate(1109.601651 44.835938) scale(0.7)\"/>\n",
       "     <use xlink:href=\"#DejaVuSans-32\" transform=\"translate(1149.326305 71.632812) scale(0.49)\"/>\n",
       "     <use xlink:href=\"#DejaVuSans-2b\" transform=\"translate(1196.053355 44.835938) scale(0.7)\"/>\n",
       "     <use xlink:href=\"#DejaVuSans-30\" transform=\"translate(1268.343395 44.835938) scale(0.7)\"/>\n",
       "     <use xlink:href=\"#DejaVuSans-2e\" transform=\"translate(1312.879527 44.835938) scale(0.7)\"/>\n",
       "     <use xlink:href=\"#DejaVuSans-38\" transform=\"translate(1333.293004 44.835938) scale(0.7)\"/>\n",
       "     <use xlink:href=\"#DejaVuSans-39\" transform=\"translate(1377.829137 44.835938) scale(0.7)\"/>\n",
       "     <use xlink:href=\"#DejaVuSans-32\" transform=\"translate(1421.14027 44.835938) scale(0.7)\"/>\n",
       "     <use xlink:href=\"#DejaVuSans-32\" transform=\"translate(1465.676402 44.835938) scale(0.7)\"/>\n",
       "     <use xlink:href=\"#DejaVuSans-Oblique-73\" transform=\"translate(1510.212535 44.835938) scale(0.7)\"/>\n",
       "     <use xlink:href=\"#DejaVuSans-2b\" transform=\"translate(1560.319957 44.835938) scale(0.7)\"/>\n",
       "     <use xlink:href=\"#DejaVuSans-32\" transform=\"translate(1632.609996 44.835938) scale(0.7)\"/>\n",
       "     <use xlink:href=\"#DejaVuSans-2e\" transform=\"translate(1677.146129 44.835938) scale(0.7)\"/>\n",
       "     <use xlink:href=\"#DejaVuSans-30\" transform=\"translate(1699.397105 44.835938) scale(0.7)\"/>\n",
       "     <use xlink:href=\"#DejaVuSans-Oblique-73\" transform=\"translate(463.530273 -50.573437) scale(0.7)\"/>\n",
       "     <use xlink:href=\"#DejaVuSans-28\" transform=\"translate(500 -50.573437) scale(0.7)\"/>\n",
       "     <use xlink:href=\"#DejaVuSans-30\" transform=\"translate(527.30957 -50.573437) scale(0.7)\"/>\n",
       "     <use xlink:href=\"#DejaVuSans-2e\" transform=\"translate(571.845703 -50.573437) scale(0.7)\"/>\n",
       "     <use xlink:href=\"#DejaVuSans-38\" transform=\"translate(592.25918 -50.573437) scale(0.7)\"/>\n",
       "     <use xlink:href=\"#DejaVuSans-39\" transform=\"translate(636.795313 -50.573437) scale(0.7)\"/>\n",
       "     <use xlink:href=\"#DejaVuSans-32\" transform=\"translate(680.106445 -50.573437) scale(0.7)\"/>\n",
       "     <use xlink:href=\"#DejaVuSans-32\" transform=\"translate(724.642578 -50.573437) scale(0.7)\"/>\n",
       "     <use xlink:href=\"#DejaVuSans-Oblique-73\" transform=\"translate(769.178711 -50.573437) scale(0.7)\"/>\n",
       "     <use xlink:href=\"#DejaVuSans-32\" transform=\"translate(808.903365 -23.776562) scale(0.49)\"/>\n",
       "     <use xlink:href=\"#DejaVuSans-2b\" transform=\"translate(855.630415 -50.573437) scale(0.7)\"/>\n",
       "     <use xlink:href=\"#DejaVuSans-30\" transform=\"translate(927.920454 -50.573437) scale(0.7)\"/>\n",
       "     <use xlink:href=\"#DejaVuSans-2e\" transform=\"translate(972.456587 -50.573437) scale(0.7)\"/>\n",
       "     <use xlink:href=\"#DejaVuSans-33\" transform=\"translate(994.707564 -50.573437) scale(0.7)\"/>\n",
       "     <use xlink:href=\"#DejaVuSans-39\" transform=\"translate(1039.243697 -50.573437) scale(0.7)\"/>\n",
       "     <use xlink:href=\"#DejaVuSans-38\" transform=\"translate(1083.779829 -50.573437) scale(0.7)\"/>\n",
       "     <use xlink:href=\"#DejaVuSans-Oblique-73\" transform=\"translate(1128.315962 -50.573437) scale(0.7)\"/>\n",
       "     <use xlink:href=\"#DejaVuSans-2b\" transform=\"translate(1178.423384 -50.573437) scale(0.7)\"/>\n",
       "     <use xlink:href=\"#DejaVuSans-30\" transform=\"translate(1250.713423 -50.573437) scale(0.7)\"/>\n",
       "     <use xlink:href=\"#DejaVuSans-2e\" transform=\"translate(1295.249556 -50.573437) scale(0.7)\"/>\n",
       "     <use xlink:href=\"#DejaVuSans-38\" transform=\"translate(1315.663033 -50.573437) scale(0.7)\"/>\n",
       "     <use xlink:href=\"#DejaVuSans-39\" transform=\"translate(1360.199165 -50.573437) scale(0.7)\"/>\n",
       "     <use xlink:href=\"#DejaVuSans-32\" transform=\"translate(1403.510298 -50.573437) scale(0.7)\"/>\n",
       "     <use xlink:href=\"#DejaVuSans-32\" transform=\"translate(1448.046431 -50.573437) scale(0.7)\"/>\n",
       "     <use xlink:href=\"#DejaVuSans-29\" transform=\"translate(1492.582564 -50.573437) scale(0.7)\"/>\n",
       "     <path d=\"M 238.530273 18.840625 \n",
       "L 238.530273 25.090625 \n",
       "L 1743.933238 25.090625 \n",
       "L 1743.933238 18.840625 \n",
       "L 238.530273 18.840625 \n",
       "z\n",
       "\"/>\n",
       "    </g>\n",
       "   </g>\n",
       "   <g id=\"text_6\">\n",
       "    <!-- $2.242$ -->\n",
       "    <g transform=\"translate(649.94 18.652522) scale(0.16 -0.16)\">\n",
       "     <use xlink:href=\"#DejaVuSans-32\" transform=\"translate(0 0.78125)\"/>\n",
       "     <use xlink:href=\"#DejaVuSans-2e\" transform=\"translate(63.623047 0.78125)\"/>\n",
       "     <use xlink:href=\"#DejaVuSans-32\" transform=\"translate(89.910156 0.78125)\"/>\n",
       "     <use xlink:href=\"#DejaVuSans-34\" transform=\"translate(153.533203 0.78125)\"/>\n",
       "     <use xlink:href=\"#DejaVuSans-32\" transform=\"translate(217.15625 0.78125)\"/>\n",
       "    </g>\n",
       "   </g>\n",
       "   <g id=\"text_7\">\n",
       "    <!-- $0.4461$ -->\n",
       "    <g transform=\"translate(788.42 14.1525) scale(0.16 -0.16)\">\n",
       "     <defs>\n",
       "      <path id=\"DejaVuSans-36\" d=\"M 2113 2584 \n",
       "Q 1688 2584 1439 2293 \n",
       "Q 1191 2003 1191 1497 \n",
       "Q 1191 994 1439 701 \n",
       "Q 1688 409 2113 409 \n",
       "Q 2538 409 2786 701 \n",
       "Q 3034 994 3034 1497 \n",
       "Q 3034 2003 2786 2293 \n",
       "Q 2538 2584 2113 2584 \n",
       "z\n",
       "M 3366 4563 \n",
       "L 3366 3988 \n",
       "Q 3128 4100 2886 4159 \n",
       "Q 2644 4219 2406 4219 \n",
       "Q 1781 4219 1451 3797 \n",
       "Q 1122 3375 1075 2522 \n",
       "Q 1259 2794 1537 2939 \n",
       "Q 1816 3084 2150 3084 \n",
       "Q 2853 3084 3261 2657 \n",
       "Q 3669 2231 3669 1497 \n",
       "Q 3669 778 3244 343 \n",
       "Q 2819 -91 2113 -91 \n",
       "Q 1303 -91 875 529 \n",
       "Q 447 1150 447 2328 \n",
       "Q 447 3434 972 4092 \n",
       "Q 1497 4750 2381 4750 \n",
       "Q 2619 4750 2861 4703 \n",
       "Q 3103 4656 3366 4563 \n",
       "z\n",
       "\" transform=\"scale(0.015625)\"/>\n",
       "     </defs>\n",
       "     <use xlink:href=\"#DejaVuSans-30\" transform=\"translate(0 0.78125)\"/>\n",
       "     <use xlink:href=\"#DejaVuSans-2e\" transform=\"translate(63.623047 0.78125)\"/>\n",
       "     <use xlink:href=\"#DejaVuSans-34\" transform=\"translate(95.410156 0.78125)\"/>\n",
       "     <use xlink:href=\"#DejaVuSans-34\" transform=\"translate(159.033203 0.78125)\"/>\n",
       "     <use xlink:href=\"#DejaVuSans-36\" transform=\"translate(222.65625 0.78125)\"/>\n",
       "     <use xlink:href=\"#DejaVuSans-31\" transform=\"translate(286.279297 0.78125)\"/>\n",
       "    </g>\n",
       "   </g>\n",
       "   <g id=\"text_8\">\n",
       "    <!-- $0.4461$ -->\n",
       "    <g transform=\"translate(824.320022 106.495) scale(0.16 -0.16)\">\n",
       "     <use xlink:href=\"#DejaVuSans-30\" transform=\"translate(0 0.78125)\"/>\n",
       "     <use xlink:href=\"#DejaVuSans-2e\" transform=\"translate(63.623047 0.78125)\"/>\n",
       "     <use xlink:href=\"#DejaVuSans-34\" transform=\"translate(95.410156 0.78125)\"/>\n",
       "     <use xlink:href=\"#DejaVuSans-34\" transform=\"translate(159.033203 0.78125)\"/>\n",
       "     <use xlink:href=\"#DejaVuSans-36\" transform=\"translate(222.65625 0.78125)\"/>\n",
       "     <use xlink:href=\"#DejaVuSans-31\" transform=\"translate(286.279297 0.78125)\"/>\n",
       "    </g>\n",
       "   </g>\n",
       "   <g id=\"text_9\">\n",
       "    <!-- $2.242$ -->\n",
       "    <g transform=\"translate(902.86 106.495) scale(0.16 -0.16)\">\n",
       "     <use xlink:href=\"#DejaVuSans-32\" transform=\"translate(0 0.78125)\"/>\n",
       "     <use xlink:href=\"#DejaVuSans-2e\" transform=\"translate(63.623047 0.78125)\"/>\n",
       "     <use xlink:href=\"#DejaVuSans-32\" transform=\"translate(89.910156 0.78125)\"/>\n",
       "     <use xlink:href=\"#DejaVuSans-34\" transform=\"translate(153.533203 0.78125)\"/>\n",
       "     <use xlink:href=\"#DejaVuSans-32\" transform=\"translate(217.15625 0.78125)\"/>\n",
       "    </g>\n",
       "   </g>\n",
       "   <g id=\"text_10\">\n",
       "    <!-- $I2$ -->\n",
       "    <g transform=\"translate(1006.9 17.7525) scale(0.16 -0.16)\">\n",
       "     <use xlink:href=\"#DejaVuSans-Oblique-49\" transform=\"translate(0 0.78125)\"/>\n",
       "     <use xlink:href=\"#DejaVuSans-32\" transform=\"translate(29.492188 0.78125)\"/>\n",
       "    </g>\n",
       "   </g>\n",
       "   <g id=\"text_11\">\n",
       "    <!-- + -->\n",
       "    <g transform=\"translate(1025.71625 70.495) scale(0.16 -0.16)\">\n",
       "     <use xlink:href=\"#DejaVuSans-2b\"/>\n",
       "    </g>\n",
       "   </g>\n",
       "   <g id=\"text_12\">\n",
       "    <!-- $V2$ -->\n",
       "    <g transform=\"translate(1021.78 106.495) scale(0.16 -0.16)\">\n",
       "     <use xlink:href=\"#DejaVuSans-Oblique-56\" transform=\"translate(0 0.78125)\"/>\n",
       "     <use xlink:href=\"#DejaVuSans-32\" transform=\"translate(68.408203 0.78125)\"/>\n",
       "    </g>\n",
       "   </g>\n",
       "   <g id=\"text_13\">\n",
       "    <!-- - -->\n",
       "    <g transform=\"translate(1029.53375 142.495) scale(0.16 -0.16)\">\n",
       "     <use xlink:href=\"#DejaVuSans-2d\"/>\n",
       "    </g>\n",
       "   </g>\n",
       "   <g id=\"patch_13\">\n",
       "    <path d=\"M 312.42 32.78 \n",
       "C 313.136048 32.78 313.822866 32.495511 314.329188 31.989188 \n",
       "C 314.835511 31.482866 315.12 30.796048 315.12 30.08 \n",
       "C 315.12 29.363952 314.835511 28.677134 314.329188 28.170812 \n",
       "C 313.822866 27.664489 313.136048 27.38 312.42 27.38 \n",
       "C 311.703952 27.38 311.017134 27.664489 310.510812 28.170812 \n",
       "C 310.004489 28.677134 309.72 29.363952 309.72 30.08 \n",
       "C 309.72 30.796048 310.004489 31.482866 310.510812 31.989188 \n",
       "C 311.017134 32.495511 311.703952 32.78 312.42 32.78 \n",
       "z\n",
       "\" clip-path=\"url(#p72be06830d)\" style=\"fill: #ffffff; stroke: #000000; stroke-width: 2; stroke-linejoin: miter\"/>\n",
       "   </g>\n",
       "   <g id=\"patch_14\">\n",
       "    <path d=\"M 312.42 176.78 \n",
       "C 313.136048 176.78 313.822866 176.495511 314.329188 175.989188 \n",
       "C 314.835511 175.482866 315.12 174.796048 315.12 174.08 \n",
       "C 315.12 173.363952 314.835511 172.677134 314.329188 172.170812 \n",
       "C 313.822866 171.664489 313.136048 171.38 312.42 171.38 \n",
       "C 311.703952 171.38 311.017134 171.664489 310.510812 172.170812 \n",
       "C 310.004489 172.677134 309.72 173.363952 309.72 174.08 \n",
       "C 309.72 174.796048 310.004489 175.482866 310.510812 175.989188 \n",
       "C 311.017134 176.495511 311.703952 176.78 312.42 176.78 \n",
       "z\n",
       "\" clip-path=\"url(#p72be06830d)\" style=\"fill: #ffffff; stroke: #000000; stroke-width: 2; stroke-linejoin: miter\"/>\n",
       "   </g>\n",
       "   <g id=\"patch_15\">\n",
       "    <path d=\"M 888.42 176.78 \n",
       "C 889.136048 176.78 889.822866 176.495511 890.329188 175.989188 \n",
       "C 890.835511 175.482866 891.12 174.796048 891.12 174.08 \n",
       "C 891.12 173.363952 890.835511 172.677134 890.329188 172.170812 \n",
       "C 889.822866 171.664489 889.136048 171.38 888.42 171.38 \n",
       "C 887.703952 171.38 887.017134 171.664489 886.510812 172.170812 \n",
       "C 886.004489 172.677134 885.72 173.363952 885.72 174.08 \n",
       "C 885.72 174.796048 886.004489 175.482866 886.510812 175.989188 \n",
       "C 887.017134 176.495511 887.703952 176.78 888.42 176.78 \n",
       "z\n",
       "\" clip-path=\"url(#p72be06830d)\" style=\"stroke: #000000; stroke-width: 2; stroke-linejoin: miter\"/>\n",
       "   </g>\n",
       "   <g id=\"patch_16\">\n",
       "    <path d=\"M 888.42 32.78 \n",
       "C 889.136048 32.78 889.822866 32.495511 890.329188 31.989188 \n",
       "C 890.835511 31.482866 891.12 30.796048 891.12 30.08 \n",
       "C 891.12 29.363952 890.835511 28.677134 890.329188 28.170812 \n",
       "C 889.822866 27.664489 889.136048 27.38 888.42 27.38 \n",
       "C 887.703952 27.38 887.017134 27.664489 886.510812 28.170812 \n",
       "C 886.004489 28.677134 885.72 29.363952 885.72 30.08 \n",
       "C 885.72 30.796048 886.004489 31.482866 886.510812 31.989188 \n",
       "C 887.017134 32.495511 887.703952 32.78 888.42 32.78 \n",
       "z\n",
       "\" clip-path=\"url(#p72be06830d)\" style=\"stroke: #000000; stroke-width: 2; stroke-linejoin: miter\"/>\n",
       "   </g>\n",
       "   <g id=\"patch_17\">\n",
       "    <path d=\"M 960.42 176.78 \n",
       "C 961.136048 176.78 961.822866 176.495511 962.329188 175.989188 \n",
       "C 962.835511 175.482866 963.12 174.796048 963.12 174.08 \n",
       "C 963.12 173.363952 962.835511 172.677134 962.329188 172.170812 \n",
       "C 961.822866 171.664489 961.136048 171.38 960.42 171.38 \n",
       "C 959.703952 171.38 959.017134 171.664489 958.510812 172.170812 \n",
       "C 958.004489 172.677134 957.72 173.363952 957.72 174.08 \n",
       "C 957.72 174.796048 958.004489 175.482866 958.510812 175.989188 \n",
       "C 959.017134 176.495511 959.703952 176.78 960.42 176.78 \n",
       "z\n",
       "\" clip-path=\"url(#p72be06830d)\" style=\"stroke: #000000; stroke-width: 2; stroke-linejoin: miter\"/>\n",
       "   </g>\n",
       "   <g id=\"patch_18\">\n",
       "    <path d=\"M 960.42 32.78 \n",
       "C 961.136048 32.78 961.822866 32.495511 962.329188 31.989188 \n",
       "C 962.835511 31.482866 963.12 30.796048 963.12 30.08 \n",
       "C 963.12 29.363952 962.835511 28.677134 962.329188 28.170812 \n",
       "C 961.822866 27.664489 961.136048 27.38 960.42 27.38 \n",
       "C 959.703952 27.38 959.017134 27.664489 958.510812 28.170812 \n",
       "C 958.004489 28.677134 957.72 29.363952 957.72 30.08 \n",
       "C 957.72 30.796048 958.004489 31.482866 958.510812 31.989188 \n",
       "C 959.017134 32.495511 959.703952 32.78 960.42 32.78 \n",
       "z\n",
       "\" clip-path=\"url(#p72be06830d)\" style=\"stroke: #000000; stroke-width: 2; stroke-linejoin: miter\"/>\n",
       "   </g>\n",
       "   <g id=\"patch_19\">\n",
       "    <path d=\"M 1032.42 32.78 \n",
       "C 1033.136048 32.78 1033.822866 32.495511 1034.329188 31.989188 \n",
       "C 1034.835511 31.482866 1035.12 30.796048 1035.12 30.08 \n",
       "C 1035.12 29.363952 1034.835511 28.677134 1034.329188 28.170812 \n",
       "C 1033.822866 27.664489 1033.136048 27.38 1032.42 27.38 \n",
       "C 1031.703952 27.38 1031.017134 27.664489 1030.510812 28.170812 \n",
       "C 1030.004489 28.677134 1029.72 29.363952 1029.72 30.08 \n",
       "C 1029.72 30.796048 1030.004489 31.482866 1030.510812 31.989188 \n",
       "C 1031.017134 32.495511 1031.703952 32.78 1032.42 32.78 \n",
       "z\n",
       "\" clip-path=\"url(#p72be06830d)\" style=\"fill: #ffffff; stroke: #000000; stroke-width: 2; stroke-linejoin: miter\"/>\n",
       "   </g>\n",
       "   <g id=\"patch_20\">\n",
       "    <path d=\"M 1032.42 176.78 \n",
       "C 1033.136048 176.78 1033.822866 176.495511 1034.329188 175.989188 \n",
       "C 1034.835511 175.482866 1035.12 174.796048 1035.12 174.08 \n",
       "C 1035.12 173.363952 1034.835511 172.677134 1034.329188 172.170812 \n",
       "C 1033.822866 171.664489 1033.136048 171.38 1032.42 171.38 \n",
       "C 1031.703952 171.38 1031.017134 171.664489 1030.510812 172.170812 \n",
       "C 1030.004489 172.677134 1029.72 173.363952 1029.72 174.08 \n",
       "C 1029.72 174.796048 1030.004489 175.482866 1030.510812 175.989188 \n",
       "C 1031.017134 176.495511 1031.703952 176.78 1032.42 176.78 \n",
       "z\n",
       "\" clip-path=\"url(#p72be06830d)\" style=\"fill: #ffffff; stroke: #000000; stroke-width: 2; stroke-linejoin: miter\"/>\n",
       "   </g>\n",
       "  </g>\n",
       " </g>\n",
       " <defs>\n",
       "  <clipPath id=\"p72be06830d\">\n",
       "   <rect x=\"0\" y=\"0\" width=\"1047.036\" height=\"286.76\"/>\n",
       "  </clipPath>\n",
       " </defs>\n",
       "</svg>\n"
      ],
      "text/plain": [
       "<schemdraw.schemdraw.Drawing at 0x7f1d0cb10cd0>"
      ]
     },
     "metadata": {},
     "output_type": "display_data"
    }
   ],
   "source": [
    "from pytc2.dibujar import dibujar_puerto_entrada, dibujar_puerto_salida, dibujar_elemento_serie, dibujar_elemento_derivacion, dibujar_tanque_serie, dibujar_funcion_exc_abajo, dibujar_espacio_derivacion\n",
    "from schemdraw import Drawing\n",
    "\n",
    "d = dibujar_puerto_entrada( Drawing(unit=4),\n",
    "                        voltage_lbl = ('+', '$V1$', '-'), \n",
    "                        current_lbl = '$I1$')\n",
    "\n",
    "d = dibujar_funcion_exc_abajo(d, 'Z_1',  \n",
    "                                  Z1.evalf(4), \n",
    "                                  hacia_salida = True,\n",
    "                                  k_gap_width = 1.5)\n",
    "\n",
    "d = dibujar_elemento_serie(d, 'L', L1.evalf(4))\n",
    "\n",
    "d = dibujar_elemento_serie(d, 'C', C1.evalf(4))\n",
    "\n",
    "d = dibujar_elemento_derivacion(d, 'L', L2.evalf(4))\n",
    "\n",
    "d = dibujar_espacio_derivacion(d)\n",
    "\n",
    "d = dibujar_elemento_derivacion(d, 'C', C2.evalf(4))\n",
    "\n",
    "d = dibujar_puerto_salida(d,\n",
    "                          voltage_lbl = ('+', '$V2$', '-'), \n",
    "                          current_lbl = '$I2$')\n",
    "\n",
    "display(d)"
   ]
  },
  {
   "cell_type": "markdown",
   "metadata": {},
   "source": [
    "Finalizamos el ejemplo con una simulación circuital de los parámetros del filtro diseñado.\n",
    "\n",
    "![LTspice](./img/sint_doble_cargada_ltspice1.png)\n"
   ]
  },
  {
   "cell_type": "markdown",
   "metadata": {},
   "source": [
    "Con este ejemplo se finaliza el documento."
   ]
  }
 ],
 "metadata": {
  "kernelspec": {
   "display_name": "Python 3 (ipykernel)",
   "language": "python",
   "name": "python3"
  },
  "language_info": {
   "codemirror_mode": {
    "name": "ipython",
    "version": 3
   },
   "file_extension": ".py",
   "mimetype": "text/x-python",
   "name": "python",
   "nbconvert_exporter": "python",
   "pygments_lexer": "ipython3",
   "version": "3.10.16"
  },
  "varInspector": {
   "cols": {
    "lenName": 16,
    "lenType": 16,
    "lenVar": 40
   },
   "kernels_config": {
    "python": {
     "delete_cmd_postfix": "",
     "delete_cmd_prefix": "del ",
     "library": "var_list.py",
     "varRefreshCmd": "print(var_dic_list())"
    },
    "r": {
     "delete_cmd_postfix": ") ",
     "delete_cmd_prefix": "rm(",
     "library": "var_list.r",
     "varRefreshCmd": "cat(var_dic_list()) "
    }
   },
   "types_to_exclude": [
    "module",
    "function",
    "builtin_function_or_method",
    "instance",
    "_Feature"
   ],
   "window_display": false
  }
 },
 "nbformat": 4,
 "nbformat_minor": 4
}
