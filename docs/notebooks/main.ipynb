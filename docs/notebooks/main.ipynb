{
 "cells": [
  {
   "cell_type": "markdown",
   "metadata": {},
   "source": [
    "# PyTC2 NB Examples "
   ]
  },
  {
   "cell_type": "markdown",
   "metadata": {},
   "source": [
    "In the following notebooks you will find examples of how to use the **PyTC2** library following the major subjects of the course of *Circuit Theory 2* (TC2) from the Universidad Tecnológica Nacional, in Buenos Aires, Argentina. &nbsp;\n",
    "\n",
    "\n",
    "  1. **Analysis and synthesis of passive and active networks**\n",
    "\n",
    "      a. [Analysis of a passive low-pass filter](filtro_pasivo_sos.ipynb)\n",
    "\n",
    "      b. [Analysis of a Sallen-Key low-pass active filter](Sallen-Key&#32;sensibilidad.ipynb)\n",
    "&nbsp;\n",
    "\n",
    "  2. **Approximation theory and its application to electric filters**\n",
    " \n",
    "      to. [Comparison of approximation functions](ComparativaOrdenes.ipynb)\n",
    "\n",
    "      b. [Bandpass transformation](transformacion_pasabanda.ipynb)\n",
    "&nbsp;\n",
    "\n",
    "  3. **Theory and linear two-ports**\n",
    " \n",
    "     b. [others ...]()\n",
    "&nbsp;\n",
    " \n",
    "  4. **Digital Filters**\n",
    " \n",
    "     b. [others ...]()\n",
    "&nbsp;\n",
    " \n",
    "  5. **Synthesis of dipoles and two-ports**\n",
    " \n",
    "     b. [others ...]()\n",
    "&nbsp;\n",
    " \n",
    "  6. **Design of filter/impedance equalizers**\n",
    " \n",
    "     b. [others ...]()\n",
    "&nbsp;"
   ]
  }
 ],
 "metadata": {
  "kernelspec": {
   "display_name": "Python 3 (ipykernel)",
   "language": "python",
   "name": "python3"
  },
  "language_info": {
   "codemirror_mode": {
    "name": "ipython",
    "version": 3
   },
   "file_extension": ".py",
   "mimetype": "text/x-python",
   "name": "python",
   "nbconvert_exporter": "python",
   "pygments_lexer": "ipython3",
   "version": "3.10.12"
  },
  "varInspector": {
   "cols": {
    "lenName": 16,
    "lenType": 16,
    "lenVar": 40
   },
   "kernels_config": {
    "python": {
     "delete_cmd_postfix": "",
     "delete_cmd_prefix": "del ",
     "library": "var_list.py",
     "varRefreshCmd": "print(var_dic_list())"
    },
    "r": {
     "delete_cmd_postfix": ") ",
     "delete_cmd_prefix": "rm(",
     "library": "var_list.r",
     "varRefreshCmd": "cat(var_dic_list()) "
    }
   },
   "types_to_exclude": [
    "module",
    "function",
    "builtin_function_or_method",
    "instance",
    "_Feature"
   ],
   "window_display": false
  }
 },
 "nbformat": 4,
 "nbformat_minor": 4
}
