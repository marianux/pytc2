{
 "cells": [
  {
   "cell_type": "markdown",
   "metadata": {},
   "source": [
    "# PyTC2 NB Ejemplos "
   ]
  },
  {
   "cell_type": "markdown",
   "metadata": {},
   "source": [
    "\n",
    "En los siguientes notebooks encontrarán ejemplos de cómo usar la librería **PyTC2** siguiendo los grandes temas de la asignatura *Teoría de los Circuitos 2* (TC2) de la Universidad Tecnológica Nacional, en Buenos Aires, Argentina. &nbsp; \n",
    "\n",
    " ## Análisis y síntesis de redes pasivas y activas\n",
    "\n",
    " a. [Análisis de un filtro pasabajo pasivo](filtro_pasivo_sos.ipynb)\n",
    "\n",
    " b. [Análisis de un filtro pasabajo activo Sallen-Key](Sallen-Key&#32;sensibilidad.ipynb)\n",
    "\n",
    "\n",
    "## Teoría de la aproximación y su aplicación a los filtros eléctricos\n",
    " \n",
    " a. [Comparativa de funciones de aproximación](ComparativaOrdenes.ipynb)\n",
    "\n",
    " b. [Transformación pasabanda](transformacion_pasabanda.ipynb)\n",
    " \n",
    " c. [Factorización y ordenamiento de SOS](secciones_SOS.ipynb)\n",
    "     \n",
    "\n",
    "## Teoría e cuadripolos lineales\n",
    " \n",
    "a. [Cuadripolos de redes elementales](cuadripolos_elementales.ipynb)\n",
    "\n",
    "b. [Conversion de modelos](conversion_cuadripolos.ipynb)\n",
    "\n",
    "c. [Análisis de redes mediante matriz admitancia indefinida](analisis_mai.ipynb)\n",
    "    \n",
    " \n",
    "## Filtros digitales\n",
    " \n",
    "a. [Filtros digitales a partir de filtros analógicos](sintesis_digital_bilineal.ipynb)\n",
    "\n",
    "b. [Filtros recursivos, o de respuesta al impulso infinita (IIR)](filtros_IIR.ipynb)\n",
    "\n",
    "c. [Filtros de respuesta al impulso finita o no recursivos (FIR)](filtros_FIR.ipynb)\n",
    "    \n",
    "## Síntesis de dipolos\n",
    " \n",
    "a. [Síntesis de funciones de excitación no disipativas](funciones_excitacion.ipynb)\n",
    "\n",
    "b. [Síntesis de funciones de excitación RC-RL](funciones_excitacion_disipativas.ipynb)\n",
    "\n",
    "c. [Remoción parcial de componentes](remociones_parciales.ipynb)\n",
    "\n",
    "d. [Síntesis de algunas funciones RLC](funciones_excitacion_RLC.ipynb)\n",
    "    \n",
    "## Síntesis de cuadripolos\n",
    " \n",
    "a. [(En desarrollo) Síntesis de redes descargadas](funciones_transf_descargadas.ipynb)\n",
    "\n",
    "b. [(En desarrollo) Síntesis de redes simplemente cargadas](funciones_transf_simplemente_cargadas.ipynb)\n",
    "\n",
    "c. [(En desarrollo) Síntesis de redes de resistencia constante](funciones_transf_R_constante.ipynb)\n",
    "\n",
    "d. [(En desarrollo) Síntesis de redes doblemente cargadas](funciones_transf_doblemente_cargadas.ipynb)\n",
    "    \n",
    "\n",
    "## Diseño de atenuadores y adaptadores de impedancia.\n",
    " \n",
    "a. [(En desarrollo) Atenuadores adaptados de banda ancha y angosta](atenuadores.ipynb)\n",
    "\n",
    "b. [(En desarrollo) Adaptadores con transferencia prescrita](adaptadores_restr_transferencia.ipynb)\n",
    "    \n",
    "\n",
    " "
   ]
  }
 ],
 "metadata": {
  "kernelspec": {
   "display_name": "Python 3 (ipykernel)",
   "language": "python",
   "name": "python3"
  },
  "language_info": {
   "codemirror_mode": {
    "name": "ipython",
    "version": 3
   },
   "file_extension": ".py",
   "mimetype": "text/x-python",
   "name": "python",
   "nbconvert_exporter": "python",
   "pygments_lexer": "ipython3",
   "version": "3.10.12"
  },
  "varInspector": {
   "cols": {
    "lenName": 16,
    "lenType": 16,
    "lenVar": 40
   },
   "kernels_config": {
    "python": {
     "delete_cmd_postfix": "",
     "delete_cmd_prefix": "del ",
     "library": "var_list.py",
     "varRefreshCmd": "print(var_dic_list())"
    },
    "r": {
     "delete_cmd_postfix": ") ",
     "delete_cmd_prefix": "rm(",
     "library": "var_list.r",
     "varRefreshCmd": "cat(var_dic_list()) "
    }
   },
   "types_to_exclude": [
    "module",
    "function",
    "builtin_function_or_method",
    "instance",
    "_Feature"
   ],
   "window_display": false
  }
 },
 "nbformat": 4,
 "nbformat_minor": 4
}
